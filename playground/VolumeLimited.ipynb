{
 "cells": [
  {
   "cell_type": "code",
   "execution_count": 1,
   "metadata": {},
   "outputs": [],
   "source": [
    "import numpy as np\n",
    "import pandas as pd\n",
    "import matplotlib.pyplot as plt\n",
    "from matplotlib.ticker import MultipleLocator\n",
    "\n",
    "from scipy.stats import spearmanr\n",
    "\n",
    "from uncertain_x.line_fit import uncertain_x"
   ]
  },
  {
   "cell_type": "code",
   "execution_count": 2,
   "metadata": {},
   "outputs": [],
   "source": [
    "%matplotlib notebook"
   ]
  },
  {
   "cell_type": "markdown",
   "metadata": {},
   "source": [
    "# Volume Limited Sample of Normal SNe Ia\n",
    "\n",
    "This notebook provides summary statistics when examining a volume limited sample of \"normal\" SNe Ia from the ZTF 2018 early sample."
   ]
  },
  {
   "cell_type": "code",
   "execution_count": 3,
   "metadata": {},
   "outputs": [],
   "source": [
    "info_path=\"../../forced_lightcurves/sample_lc_v2/\"\n",
    "salt_df = pd.read_csv(info_path + \"../../Nobs_cut_salt2_spec_subtype_pec.csv\")\n",
    "res = pd.read_csv('results_40percent.csv')\n",
    "res_tsquared = pd.read_csv('results_40_tsquared.csv')"
   ]
  },
  {
   "cell_type": "code",
   "execution_count": 4,
   "metadata": {},
   "outputs": [],
   "source": [
    "normal = np.where((salt_df['Ia subtype'] != 'Ia-CSM') & \n",
    "                  (salt_df['Ia subtype'] != 'SC') & \n",
    "                  (salt_df['Ia subtype'] != 'SC*') & \n",
    "                  (salt_df['Ia subtype'] != '86G-like') & \n",
    "                  (salt_df['Ia subtype'] != '02cx-like'))\n",
    "good = np.where(res.final_selection.values == 1)\n",
    "has_host_z = np.where(salt_df.z_source != 'Msl')\n",
    "\n",
    "normal_good = np.intersect1d(normal, good)\n",
    "normal_good_host = np.intersect1d(normal_good, has_host_z)\n",
    "\n",
    "# rearange for plotting\n",
    "normal_plot = np.setdiff1d(normal[0], normal_good)\n",
    "normal_good_plot = np.setdiff1d(normal_good, normal_good_host)"
   ]
  },
  {
   "cell_type": "code",
   "execution_count": 5,
   "metadata": {},
   "outputs": [],
   "source": [
    "# plotting dictionary\n",
    "color_dict = {'orange': '#F0810F',\n",
    "              'blueberry': '#063852',\n",
    "              'dark navy': '#011A27'}"
   ]
  },
  {
   "cell_type": "code",
   "execution_count": 6,
   "metadata": {},
   "outputs": [
    {
     "name": "stdout",
     "output_type": "stream",
     "text": [
      "28\n",
      "16\n",
      "15\n"
     ]
    }
   ],
   "source": [
    "low_z = np.where(salt_df.z_adopt < 0.06)\n",
    "\n",
    "\n",
    "normal_lowz = np.intersect1d(low_z, normal)\n",
    "print(len(normal_lowz))\n",
    "normal_good_lowz = np.intersect1d(low_z, normal_good)\n",
    "print(len(normal_good_lowz))\n",
    "normal_good_host_lowz = np.intersect1d(low_z, normal_good_host)\n",
    "print(len(normal_good_host_lowz))"
   ]
  },
  {
   "cell_type": "code",
   "execution_count": 7,
   "metadata": {},
   "outputs": [],
   "source": [
    "t_rise_16 = res.t_rise_16.values.copy()\n",
    "t_rise_50 = res.t_rise_50.values.copy()\n",
    "t_rise_84 = res.t_rise_84.values.copy()\n",
    "\n",
    "sigma_i = (t_rise_84-t_rise_16)/2\n",
    "w_i = (sigma_i)**(-2)"
   ]
  },
  {
   "cell_type": "code",
   "execution_count": 11,
   "metadata": {},
   "outputs": [
    {
     "name": "stdout",
     "output_type": "stream",
     "text": [
      "The following are summary statistics for rise time:\n",
      "mean, median, weighted mean: 16.87319, 17.03738, 18.18446\n",
      "std, sMAD, sigma w_mean: 2.23480, 2.42283, 0.05104\n",
      "the slope is: 1.2556 +/- 0.0446\n",
      "the intercept is: 17.6953 +/- 0.0589\n",
      "the residual scatter is: 1.7150 d\n",
      " \n",
      "  If you restrict to only \"good\" SNe however:\n",
      "    mean, median, weighted mean: 17.93970, 17.68516, 18.47503\n",
      "    std, sMAD, sigma w_mean: 1.72830, 1.95130, 0.05318\n",
      "    the slope is: 0.8556 +/- 0.0352\n",
      "    the intercept is: 18.0100 +/- 0.0614\n",
      "    the residual scatter is: 1.4379 d\n",
      " \n",
      "\tFurther restrict to host-z SNe however:\n",
      "\t  mean, median, weighted mean: 18.09045, 18.07066, 18.51542\n",
      "\t  std, sMAD, sigma w_mean: 1.67654, 2.00409, 0.05356\n",
      "\t  the slope is: 0.8045 +/- 0.0112\n",
      "\t  the intercept is: 18.0564 +/- 0.1360\n",
      "\t  the residual scatter is: 1.4095 d\n"
     ]
    }
   ],
   "source": [
    "print('The following are summary statistics for rise time:')\n",
    "print('mean, median, weighted mean: {:.5f}, {:.5f}, {:.5f}'.format(np.mean(t_rise_50[normal_lowz]), np.median(t_rise_50[normal_lowz]),\n",
    "                                                                   np.average(t_rise_50[normal_lowz], \n",
    "                                                                              weights=w_i[normal_lowz])))\n",
    "print('std, sMAD, sigma w_mean: {:.5f}, {:.5f}, {:.5f}'.format(np.std(t_rise_50[normal_lowz], ddof=1), \n",
    "                                                       1.4826*np.median(np.abs(t_rise_50[normal_lowz] - np.median(t_rise_50[normal_lowz]))),\n",
    "                                                       1/np.sum(w_i[normal_lowz])*np.sqrt(np.sum((w_i[normal_lowz]*sigma_i[normal_lowz])**2))))\n",
    "\n",
    "salt_uninformative = uncertain_x.UncertainAbscissa('salt')\n",
    "salt_uninformative.add_data(salt_df.x1_salt2.values[normal_lowz], t_rise_50[normal_lowz], \n",
    "                            salt_df.x1_salt2_unc.values[normal_lowz], sigma_i[normal_lowz])\n",
    "salt_uninformative.mle_slope_intercept(slope_guess=1.0, intercept_guess=17)\n",
    "print('the slope is: {:.4f} +/- {:.4f}'.format(salt_uninformative.m, salt_uninformative.m_unc))\n",
    "print('the intercept is: {:.4f} +/- {:.4f}'.format(salt_uninformative.b, salt_uninformative.b_unc))\n",
    "\n",
    "residuals = t_rise_50[normal_lowz] - np.polyval([salt_uninformative.m, salt_uninformative.b], \n",
    "                                                salt_df.x1_salt2.values[normal_lowz])\n",
    "print('the residual scatter is: {:.4f} d'.format(np.std(residuals, ddof=1)))\n",
    "print(' ')\n",
    "print('  If you restrict to only \"good\" SNe however:')\n",
    "print('    mean, median, weighted mean: {:.5f}, {:.5f}, {:.5f}'.format(np.mean(t_rise_50[normal_good_lowz]), np.median(t_rise_50[normal_good_lowz]),\n",
    "                                                                   np.average(t_rise_50[normal_good_lowz], \n",
    "                                                                              weights=w_i[normal_good_lowz])))\n",
    "print('    std, sMAD, sigma w_mean: {:.5f}, {:.5f}, {:.5f}'.format(np.std(t_rise_50[normal_good_lowz], ddof=1), \n",
    "                                                                   1.4826*np.median(np.abs(t_rise_50[normal_good_lowz] - np.median(t_rise_50[normal_good_lowz]))), \n",
    "                                                                   1/np.sum(w_i[normal_good_lowz])*np.sqrt(np.sum((w_i[normal_good_lowz]*sigma_i[normal_good_lowz])**2))))\n",
    "salt_uninformative = uncertain_x.UncertainAbscissa('salt')\n",
    "salt_uninformative.add_data(salt_df.x1_salt2.values[normal_good_lowz], t_rise_50[normal_good_lowz], \n",
    "                            salt_df.x1_salt2_unc.values[normal_good_lowz], sigma_i[normal_good_lowz])\n",
    "salt_uninformative.mle_slope_intercept(slope_guess=0.85, intercept_guess=17)\n",
    "print('    the slope is: {:.4f} +/- {:.4f}'.format(salt_uninformative.m, salt_uninformative.m_unc))\n",
    "print('    the intercept is: {:.4f} +/- {:.4f}'.format(salt_uninformative.b, salt_uninformative.b_unc))\n",
    "\n",
    "residuals = t_rise_50[normal_good_lowz] - np.polyval([salt_uninformative.m, salt_uninformative.b], \n",
    "                                                salt_df.x1_salt2.values[normal_good_lowz])\n",
    "print('    the residual scatter is: {:.4f} d'.format(np.std(residuals, ddof=1)))\n",
    "print(' ')\n",
    "print('\\tFurther restrict to host-z SNe however:')\n",
    "print('\\t  mean, median, weighted mean: {:.5f}, {:.5f}, {:.5f}'.format(np.mean(t_rise_50[normal_good_host_lowz]), np.median(t_rise_50[normal_good_host_lowz]),\n",
    "                                                                   np.average(t_rise_50[normal_good_host_lowz], \n",
    "                                                                              weights=w_i[normal_good_host_lowz])))\n",
    "print('\\t  std, sMAD, sigma w_mean: {:.5f}, {:.5f}, {:.5f}'.format(np.std(t_rise_50[normal_good_host_lowz], ddof=1), \n",
    "                                                                   1.4826*np.median(np.abs(t_rise_50[normal_good_host_lowz] - np.median(t_rise_50[normal_good_host_lowz]))), \n",
    "                                                                   1/np.sum(w_i[normal_good_host_lowz])*np.sqrt(np.sum((w_i[normal_good_host_lowz]*sigma_i[normal_good_host_lowz])**2))))\n",
    "\n",
    "salt_uninformative = uncertain_x.UncertainAbscissa('salt')\n",
    "salt_uninformative.add_data(salt_df.x1_salt2.values[normal_good_host_lowz], t_rise_50[normal_good_host_lowz], \n",
    "                            salt_df.x1_salt2_unc.values[normal_good_host_lowz], sigma_i[normal_good_host_lowz])\n",
    "salt_uninformative.mle_slope_intercept(slope_guess=0.85, intercept_guess=17)\n",
    "print('\\t  the slope is: {:.4f} +/- {:.4f}'.format(salt_uninformative.m, salt_uninformative.m_unc))\n",
    "print('\\t  the intercept is: {:.4f} +/- {:.4f}'.format(salt_uninformative.b, salt_uninformative.b_unc))\n",
    "\n",
    "residuals = t_rise_50[normal_good_host_lowz] - np.polyval([salt_uninformative.m, salt_uninformative.b], \n",
    "                                                salt_df.x1_salt2.values[normal_good_host_lowz])\n",
    "print('\\t  the residual scatter is: {:.4f} d'.format(np.std(residuals, ddof=1)))"
   ]
  },
  {
   "cell_type": "code",
   "execution_count": 9,
   "metadata": {},
   "outputs": [],
   "source": [
    "flat_alpha_g_16 = res.flat_alpha_g_16.values.copy()\n",
    "flat_alpha_g_50 = res.flat_alpha_g_50.values.copy()\n",
    "flat_alpha_g_84 = res.flat_alpha_g_84.values.copy()\n",
    "\n",
    "sigma_i = (flat_alpha_g_84-flat_alpha_g_16)/2\n",
    "w_i = (sigma_i)**(-2)"
   ]
  },
  {
   "cell_type": "code",
   "execution_count": 10,
   "metadata": {},
   "outputs": [
    {
     "name": "stdout",
     "output_type": "stream",
     "text": [
      "The following are summary statistics for alpha_g:\n",
      "mean, median, weighted mean: 2.10809, 2.21567, 2.05053\n",
      "std, sMAD, sigma w_mean: 0.75758, 0.88782, 0.02759\n",
      "  If you restrict to only \"good\" SNe however:\n",
      "    mean, median, weighted mean: 2.31110, 2.33805, 2.13332\n",
      "    std, sMAD, sigma w_mean: 0.53738, 0.40565, 0.02906\n",
      "\tFurther restrict to host-z SNe however:\n",
      "\t  mean, median, weighted mean: 2.36384, 2.36108, 2.13994\n",
      "\t  std, sMAD, sigma w_mean: 0.51158, 0.42534, 0.02921\n"
     ]
    }
   ],
   "source": [
    "print('The following are summary statistics for alpha_g:')\n",
    "print('mean, median, weighted mean: {:.5f}, {:.5f}, {:.5f}'.format(np.mean(flat_alpha_g_50[normal_lowz]), np.median(flat_alpha_g_50[normal_lowz]),\n",
    "                                                                   np.average(flat_alpha_g_50[normal_lowz], \n",
    "                                                                              weights=w_i[normal_lowz])))\n",
    "print('std, sMAD, sigma w_mean: {:.5f}, {:.5f}, {:.5f}'.format(np.std(flat_alpha_g_50[normal_lowz], ddof=1), \n",
    "                                                       1.4826*np.median(np.abs(flat_alpha_g_50[normal_lowz] - np.median(flat_alpha_g_50[normal_lowz]))),\n",
    "                                                       1/np.sum(w_i[normal_lowz])*np.sqrt(np.sum((w_i[normal_lowz]*sigma_i[normal_lowz])**2))))\n",
    "\n",
    "print('  If you restrict to only \"good\" SNe however:')\n",
    "print('    mean, median, weighted mean: {:.5f}, {:.5f}, {:.5f}'.format(np.mean(flat_alpha_g_50[normal_good_lowz]), np.median(flat_alpha_g_50[normal_good_lowz]),\n",
    "                                                                   np.average(flat_alpha_g_50[normal_good_lowz], \n",
    "                                                                              weights=w_i[normal_good_lowz])))\n",
    "print('    std, sMAD, sigma w_mean: {:.5f}, {:.5f}, {:.5f}'.format(np.std(flat_alpha_g_50[normal_good_lowz], ddof=1), \n",
    "                                                                   1.4826*np.median(np.abs(flat_alpha_g_50[normal_good_lowz] - np.median(flat_alpha_g_50[normal_good_lowz]))), \n",
    "                                                                   1/np.sum(w_i[normal_good_lowz])*np.sqrt(np.sum((w_i[normal_good_lowz]*sigma_i[normal_good_lowz])**2))))\n",
    "\n",
    "print('\\tFurther restrict to host-z SNe however:')\n",
    "print('\\t  mean, median, weighted mean: {:.5f}, {:.5f}, {:.5f}'.format(np.mean(flat_alpha_g_50[normal_good_host_lowz]), np.median(flat_alpha_g_50[normal_good_host_lowz]),\n",
    "                                                                   np.average(flat_alpha_g_50[normal_good_host_lowz], \n",
    "                                                                              weights=w_i[normal_good_host_lowz])))\n",
    "print('\\t  std, sMAD, sigma w_mean: {:.5f}, {:.5f}, {:.5f}'.format(np.std(flat_alpha_g_50[normal_good_host_lowz], ddof=1), \n",
    "                                                                   1.4826*np.median(np.abs(flat_alpha_g_50[normal_good_host_lowz] - np.median(flat_alpha_g_50[normal_good_host_lowz]))), \n",
    "                                                                   1/np.sum(w_i[normal_good_host_lowz])*np.sqrt(np.sum((w_i[normal_good_host_lowz]*sigma_i[normal_good_host_lowz])**2))))"
   ]
  },
  {
   "cell_type": "code",
   "execution_count": 11,
   "metadata": {},
   "outputs": [],
   "source": [
    "flat_alpha_r_16 = res.flat_alpha_r_16.values.copy()\n",
    "flat_alpha_r_50 = res.flat_alpha_r_50.values.copy()\n",
    "flat_alpha_r_84 = res.flat_alpha_r_84.values.copy()\n",
    "\n",
    "sigma_i = (flat_alpha_r_84-flat_alpha_r_16)/2\n",
    "w_i = (sigma_i)**(-2)"
   ]
  },
  {
   "cell_type": "code",
   "execution_count": 12,
   "metadata": {},
   "outputs": [
    {
     "name": "stdout",
     "output_type": "stream",
     "text": [
      "The following are summary statistics for alpha_r:\n",
      "mean, median, weighted mean: 1.99435, 2.01032, 1.95093\n",
      "std, sMAD, sigma w_mean: 0.66800, 0.60663, 0.02783\n",
      "  If you restrict to only \"good\" SNe however:\n",
      "    mean, median, weighted mean: 2.11799, 2.13313, 2.00928\n",
      "    std, sMAD, sigma w_mean: 0.51820, 0.43057, 0.02911\n",
      "\tFurther restrict to host-z SNe however:\n",
      "\t  mean, median, weighted mean: 2.16755, 2.24131, 2.01793\n",
      "\t  std, sMAD, sigma w_mean: 0.49560, 0.40529, 0.02931\n"
     ]
    }
   ],
   "source": [
    "print('The following are summary statistics for alpha_r:')\n",
    "print('mean, median, weighted mean: {:.5f}, {:.5f}, {:.5f}'.format(np.mean(flat_alpha_r_50[normal_lowz]), np.median(flat_alpha_r_50[normal_lowz]),\n",
    "                                                                   np.average(flat_alpha_r_50[normal_lowz], \n",
    "                                                                              weights=w_i[normal_lowz])))\n",
    "print('std, sMAD, sigma w_mean: {:.5f}, {:.5f}, {:.5f}'.format(np.std(flat_alpha_r_50[normal_lowz], ddof=1), \n",
    "                                                       1.4826*np.median(np.abs(flat_alpha_r_50[normal_lowz] - np.median(flat_alpha_r_50[normal_lowz]))),\n",
    "                                                       1/np.sum(w_i[normal_lowz])*np.sqrt(np.sum((w_i[normal_lowz]*sigma_i[normal_lowz])**2))))\n",
    "\n",
    "print('  If you restrict to only \"good\" SNe however:')\n",
    "print('    mean, median, weighted mean: {:.5f}, {:.5f}, {:.5f}'.format(np.mean(flat_alpha_r_50[normal_good_lowz]), np.median(flat_alpha_r_50[normal_good_lowz]),\n",
    "                                                                   np.average(flat_alpha_r_50[normal_good_lowz], \n",
    "                                                                              weights=w_i[normal_good_lowz])))\n",
    "print('    std, sMAD, sigma w_mean: {:.5f}, {:.5f}, {:.5f}'.format(np.std(flat_alpha_r_50[normal_good_lowz], ddof=1), \n",
    "                                                                   1.4826*np.median(np.abs(flat_alpha_r_50[normal_good_lowz] - np.median(flat_alpha_r_50[normal_good_lowz]))), \n",
    "                                                                   1/np.sum(w_i[normal_good_lowz])*np.sqrt(np.sum((w_i[normal_good_lowz]*sigma_i[normal_good_lowz])**2))))\n",
    "\n",
    "print('\\tFurther restrict to host-z SNe however:')\n",
    "print('\\t  mean, median, weighted mean: {:.5f}, {:.5f}, {:.5f}'.format(np.mean(flat_alpha_r_50[normal_good_host_lowz]), np.median(flat_alpha_r_50[normal_good_host_lowz]),\n",
    "                                                                   np.average(flat_alpha_r_50[normal_good_host_lowz], \n",
    "                                                                              weights=w_i[normal_good_host_lowz])))\n",
    "print('\\t  std, sMAD, sigma w_mean: {:.5f}, {:.5f}, {:.5f}'.format(np.std(flat_alpha_r_50[normal_good_host_lowz], ddof=1), \n",
    "                                                                   1.4826*np.median(np.abs(flat_alpha_r_50[normal_good_host_lowz] - np.median(flat_alpha_r_50[normal_good_host_lowz]))), \n",
    "                                                                   1/np.sum(w_i[normal_good_host_lowz])*np.sqrt(np.sum((w_i[normal_good_host_lowz]*sigma_i[normal_good_host_lowz])**2))))"
   ]
  },
  {
   "cell_type": "markdown",
   "metadata": {},
   "source": [
    "### Repeat analysis for the t^2 SNe"
   ]
  },
  {
   "cell_type": "code",
   "execution_count": 17,
   "metadata": {},
   "outputs": [
    {
     "name": "stdout",
     "output_type": "stream",
     "text": [
      "28\n",
      "27\n",
      "24\n"
     ]
    }
   ],
   "source": [
    "t_rise_16 = res_tsquared.t_rise_16.values.copy()\n",
    "t_rise_50 = res_tsquared.t_rise_50.values.copy()\n",
    "t_rise_84 = res_tsquared.t_rise_84.values.copy()\n",
    "\n",
    "sigma_i = (t_rise_84-t_rise_16)/2\n",
    "w_i = (sigma_i)**(-2)\n",
    "\n",
    "normal = np.where((salt_df['Ia subtype'] != 'Ia-CSM') & \n",
    "                  (salt_df['Ia subtype'] != 'SC') & \n",
    "                  (salt_df['Ia subtype'] != 'SC*') & \n",
    "                  (salt_df['Ia subtype'] != '86G-like') & \n",
    "                  (salt_df['Ia subtype'] != '02cx-like'))\n",
    "good = np.where(res_tsquared.final_selection.values == 1)\n",
    "has_host_z = np.where(salt_df.z_source != 'Msl')\n",
    "\n",
    "normal_good = np.intersect1d(normal, good)\n",
    "normal_good_host = np.intersect1d(normal_good, has_host_z)\n",
    "\n",
    "normal_lowz = np.intersect1d(low_z, normal)\n",
    "print(len(normal_lowz))\n",
    "normal_good_lowz = np.intersect1d(low_z, normal_good)\n",
    "print(len(normal_good_lowz))\n",
    "normal_good_host_lowz = np.intersect1d(low_z, normal_good_host)\n",
    "print(len(normal_good_host_lowz))"
   ]
  },
  {
   "cell_type": "code",
   "execution_count": 21,
   "metadata": {},
   "outputs": [
    {
     "name": "stdout",
     "output_type": "stream",
     "text": [
      "The following are summary statistics for rise time:\n",
      "mean, median, weighted mean: 20.51776, 20.50461, 21.16798\n",
      "std, sMAD, sigma w_mean: 1.45710, 2.07489, 0.02098\n",
      "the slope is: 1.4714 +/- 0.0067\n",
      "the intercept is: 20.9436 +/- 0.1355\n",
      "the residual scatter is: 0.7141 d\n",
      " \n",
      "  If you restrict to only \"good\" SNe however:\n",
      "    mean, median, weighted mean: 20.58930, 20.52734, 21.16890\n",
      "    std, sMAD, sigma w_mean: 1.43387, 2.02832, 0.02099\n",
      "    the slope is: 1.4715 +/- 0.0284\n",
      "    the intercept is: 20.9435 +/- 0.0300\n",
      "    the residual scatter is: 0.7277 d\n",
      " \n",
      "\tFurther restrict to host-z SNe however:\n",
      "\t  mean, median, weighted mean: 20.50924, 20.50461, 21.16477\n",
      "\t  std, sMAD, sigma w_mean: 1.47281, 2.09513, 0.02118\n",
      "\t  the slope is: 1.4722 +/- 0.0278\n",
      "\t  the intercept is: 20.9431 +/- 0.0304\n",
      "\t  the residual scatter is: 0.7706 d\n"
     ]
    }
   ],
   "source": [
    "print('The following are summary statistics for rise time:')\n",
    "print('mean, median, weighted mean: {:.5f}, {:.5f}, {:.5f}'.format(np.mean(t_rise_50[normal_lowz]), np.median(t_rise_50[normal_lowz]),\n",
    "                                                                   np.average(t_rise_50[normal_lowz], \n",
    "                                                                              weights=w_i[normal_lowz])))\n",
    "print('std, sMAD, sigma w_mean: {:.5f}, {:.5f}, {:.5f}'.format(np.std(t_rise_50[normal_lowz], ddof=1), \n",
    "                                                       1.4826*np.median(np.abs(t_rise_50[normal_lowz] - np.median(t_rise_50[normal_lowz]))),\n",
    "                                                       1/np.sum(w_i[normal_lowz])*np.sqrt(np.sum((w_i[normal_lowz]*sigma_i[normal_lowz])**2))))\n",
    "\n",
    "salt_uninformative = uncertain_x.UncertainAbscissa('salt')\n",
    "salt_uninformative.add_data(salt_df.x1_salt2.values[normal_lowz], t_rise_50[normal_lowz], \n",
    "                            salt_df.x1_salt2_unc.values[normal_lowz], sigma_i[normal_lowz])\n",
    "salt_uninformative.mle_slope_intercept(slope_guess=1.5, intercept_guess=20)\n",
    "print('the slope is: {:.4f} +/- {:.4f}'.format(salt_uninformative.m, salt_uninformative.m_unc))\n",
    "print('the intercept is: {:.4f} +/- {:.4f}'.format(salt_uninformative.b, salt_uninformative.b_unc))\n",
    "\n",
    "residuals = t_rise_50[normal_lowz] - np.polyval([salt_uninformative.m, salt_uninformative.b], \n",
    "                                                salt_df.x1_salt2.values[normal_lowz])\n",
    "print('the residual scatter is: {:.4f} d'.format(np.std(residuals, ddof=1)))\n",
    "print(' ')\n",
    "print('  If you restrict to only \"good\" SNe however:')\n",
    "print('    mean, median, weighted mean: {:.5f}, {:.5f}, {:.5f}'.format(np.mean(t_rise_50[normal_good_lowz]), np.median(t_rise_50[normal_good_lowz]),\n",
    "                                                                   np.average(t_rise_50[normal_good_lowz], \n",
    "                                                                              weights=w_i[normal_good_lowz])))\n",
    "print('    std, sMAD, sigma w_mean: {:.5f}, {:.5f}, {:.5f}'.format(np.std(t_rise_50[normal_good_lowz], ddof=1), \n",
    "                                                                   1.4826*np.median(np.abs(t_rise_50[normal_good_lowz] - np.median(t_rise_50[normal_good_lowz]))), \n",
    "                                                                   1/np.sum(w_i[normal_good_lowz])*np.sqrt(np.sum((w_i[normal_good_lowz]*sigma_i[normal_good_lowz])**2))))\n",
    "salt_uninformative = uncertain_x.UncertainAbscissa('salt')\n",
    "salt_uninformative.add_data(salt_df.x1_salt2.values[normal_good_lowz], t_rise_50[normal_good_lowz], \n",
    "                            salt_df.x1_salt2_unc.values[normal_good_lowz], sigma_i[normal_good_lowz])\n",
    "salt_uninformative.mle_slope_intercept(slope_guess=1.5, intercept_guess=20)\n",
    "print('    the slope is: {:.4f} +/- {:.4f}'.format(salt_uninformative.m, salt_uninformative.m_unc))\n",
    "print('    the intercept is: {:.4f} +/- {:.4f}'.format(salt_uninformative.b, salt_uninformative.b_unc))\n",
    "\n",
    "residuals = t_rise_50[normal_good_lowz] - np.polyval([salt_uninformative.m, salt_uninformative.b], \n",
    "                                                salt_df.x1_salt2.values[normal_good_lowz])\n",
    "print('    the residual scatter is: {:.4f} d'.format(np.std(residuals, ddof=1)))\n",
    "print(' ')\n",
    "print('\\tFurther restrict to host-z SNe however:')\n",
    "print('\\t  mean, median, weighted mean: {:.5f}, {:.5f}, {:.5f}'.format(np.mean(t_rise_50[normal_good_host_lowz]), np.median(t_rise_50[normal_good_host_lowz]),\n",
    "                                                                   np.average(t_rise_50[normal_good_host_lowz], \n",
    "                                                                              weights=w_i[normal_good_host_lowz])))\n",
    "print('\\t  std, sMAD, sigma w_mean: {:.5f}, {:.5f}, {:.5f}'.format(np.std(t_rise_50[normal_good_host_lowz], ddof=1), \n",
    "                                                                   1.4826*np.median(np.abs(t_rise_50[normal_good_host_lowz] - np.median(t_rise_50[normal_good_host_lowz]))), \n",
    "                                                                   1/np.sum(w_i[normal_good_host_lowz])*np.sqrt(np.sum((w_i[normal_good_host_lowz]*sigma_i[normal_good_host_lowz])**2))))\n",
    "\n",
    "salt_uninformative = uncertain_x.UncertainAbscissa('salt')\n",
    "salt_uninformative.add_data(salt_df.x1_salt2.values[normal_good_host_lowz], t_rise_50[normal_good_host_lowz], \n",
    "                            salt_df.x1_salt2_unc.values[normal_good_host_lowz], sigma_i[normal_good_host_lowz])\n",
    "salt_uninformative.mle_slope_intercept(slope_guess=1.5, intercept_guess=20)\n",
    "print('\\t  the slope is: {:.4f} +/- {:.4f}'.format(salt_uninformative.m, salt_uninformative.m_unc))\n",
    "print('\\t  the intercept is: {:.4f} +/- {:.4f}'.format(salt_uninformative.b, salt_uninformative.b_unc))\n",
    "\n",
    "residuals = t_rise_50[normal_good_host_lowz] - np.polyval([salt_uninformative.m, salt_uninformative.b], \n",
    "                                                salt_df.x1_salt2.values[normal_good_host_lowz])\n",
    "print('\\t  the residual scatter is: {:.4f} d'.format(np.std(residuals, ddof=1)))"
   ]
  },
  {
   "cell_type": "markdown",
   "metadata": {},
   "source": [
    "### Repeat analysis for the mixed sample of SNe"
   ]
  },
  {
   "cell_type": "code",
   "execution_count": 30,
   "metadata": {},
   "outputs": [],
   "source": [
    "dic_df = pd.read_csv('dic_results.csv')"
   ]
  },
  {
   "cell_type": "code",
   "execution_count": 31,
   "metadata": {},
   "outputs": [
    {
     "name": "stdout",
     "output_type": "stream",
     "text": [
      "13\n"
     ]
    }
   ],
   "source": [
    "no_t2 = np.where(((dic_df.dic_evidence == 'decisive') | (dic_df.dic_evidence == 'very strong')) &  \n",
    "                 (res.final_selection == 1))[0]\n",
    "print(len(no_t2))"
   ]
  },
  {
   "cell_type": "code",
   "execution_count": 32,
   "metadata": {},
   "outputs": [],
   "source": [
    "t_rise_16[no_t2] = res.t_rise_16.values.copy()[no_t2]\n",
    "t_rise_50[no_t2] = res.t_rise_50.values.copy()[no_t2]\n",
    "t_rise_84[no_t2] = res.t_rise_84.values.copy()[no_t2]\n",
    "\n",
    "sigma_i = (t_rise_84-t_rise_16)/2\n",
    "w_i = (sigma_i)**(-2)"
   ]
  },
  {
   "cell_type": "code",
   "execution_count": 33,
   "metadata": {},
   "outputs": [
    {
     "name": "stdout",
     "output_type": "stream",
     "text": [
      "The following are summary statistics for rise time:\n",
      "mean, median, weighted mean: 19.75843, 19.58847, 19.45520\n",
      "std, sMAD, sigma w_mean: 1.37175, 1.35126, 0.03351\n",
      "  If you restrict to only \"good\" SNe however:\n",
      "    mean, median, weighted mean: 19.80185, 19.66088, 19.45599\n",
      "    std, sMAD, sigma w_mean: 1.37814, 1.30155, 0.03352\n",
      "\tFurther restrict to host-z SNe however:\n",
      "\t  mean, median, weighted mean: 19.62335, 19.51187, 19.36108\n",
      "\t  std, sMAD, sigma w_mean: 1.32400, 1.32875, 0.03434\n"
     ]
    }
   ],
   "source": [
    "print('The following are summary statistics for rise time:')\n",
    "print('mean, median, weighted mean: {:.5f}, {:.5f}, {:.5f}'.format(np.mean(t_rise_50[normal_lowz]), np.median(t_rise_50[normal_lowz]),\n",
    "                                                                   np.average(t_rise_50[normal_lowz], \n",
    "                                                                              weights=w_i[normal_lowz])))\n",
    "print('std, sMAD, sigma w_mean: {:.5f}, {:.5f}, {:.5f}'.format(np.std(t_rise_50[normal_lowz], ddof=1), \n",
    "                                                       1.4826*np.median(np.abs(t_rise_50[normal_lowz] - np.median(t_rise_50[normal_lowz]))),\n",
    "                                                       1/np.sum(w_i[normal_lowz])*np.sqrt(np.sum((w_i[normal_lowz]*sigma_i[normal_lowz])**2))))\n",
    "\n",
    "print('  If you restrict to only \"good\" SNe however:')\n",
    "print('    mean, median, weighted mean: {:.5f}, {:.5f}, {:.5f}'.format(np.mean(t_rise_50[normal_good_lowz]), np.median(t_rise_50[normal_good_lowz]),\n",
    "                                                                   np.average(t_rise_50[normal_good_lowz], \n",
    "                                                                              weights=w_i[normal_good_lowz])))\n",
    "print('    std, sMAD, sigma w_mean: {:.5f}, {:.5f}, {:.5f}'.format(np.std(t_rise_50[normal_good_lowz], ddof=1), \n",
    "                                                                   1.4826*np.median(np.abs(t_rise_50[normal_good_lowz] - np.median(t_rise_50[normal_good_lowz]))), \n",
    "                                                                   1/np.sum(w_i[normal_good_lowz])*np.sqrt(np.sum((w_i[normal_good_lowz]*sigma_i[normal_good_lowz])**2))))\n",
    "\n",
    "print('\\tFurther restrict to host-z SNe however:')\n",
    "print('\\t  mean, median, weighted mean: {:.5f}, {:.5f}, {:.5f}'.format(np.mean(t_rise_50[normal_good_host_lowz]), np.median(t_rise_50[normal_good_host_lowz]),\n",
    "                                                                   np.average(t_rise_50[normal_good_host_lowz], \n",
    "                                                                              weights=w_i[normal_good_host_lowz])))\n",
    "print('\\t  std, sMAD, sigma w_mean: {:.5f}, {:.5f}, {:.5f}'.format(np.std(t_rise_50[normal_good_host_lowz], ddof=1), \n",
    "                                                                   1.4826*np.median(np.abs(t_rise_50[normal_good_host_lowz] - np.median(t_rise_50[normal_good_host_lowz]))), \n",
    "                                                                   1/np.sum(w_i[normal_good_host_lowz])*np.sqrt(np.sum((w_i[normal_good_host_lowz]*sigma_i[normal_good_host_lowz])**2))))"
   ]
  },
  {
   "cell_type": "markdown",
   "metadata": {},
   "source": [
    "### Repeat analysis for just alpha != 2 (DIC selected subsection)"
   ]
  },
  {
   "cell_type": "code",
   "execution_count": 22,
   "metadata": {},
   "outputs": [],
   "source": [
    "normal_lowz = np.intersect1d(normal_lowz, no_t2)\n",
    "normal_good_lowz = np.intersect1d(normal_good_lowz, no_t2)\n",
    "normal_good_host_lowz = np.intersect1d(normal_good_host_lowz, no_t2)"
   ]
  },
  {
   "cell_type": "code",
   "execution_count": 23,
   "metadata": {},
   "outputs": [
    {
     "name": "stdout",
     "output_type": "stream",
     "text": [
      "The following are summary statistics for rise time:\n",
      "mean, median, weighted mean: 19.09761, 19.21959, 18.83624\n",
      "std, sMAD, sigma w_mean: 1.32714, 0.76041, 0.03148\n",
      "  If you restrict to only \"good\" SNe however:\n",
      "    mean, median, weighted mean: 19.09761, 19.21959, 18.83624\n",
      "    std, sMAD, sigma w_mean: 1.32714, 0.76041, 0.03148\n",
      "\tFurther restrict to host-z SNe however:\n",
      "\t  mean, median, weighted mean: 19.09761, 19.21959, 18.83624\n",
      "\t  std, sMAD, sigma w_mean: 1.32714, 0.76041, 0.03148\n"
     ]
    }
   ],
   "source": [
    "print('The following are summary statistics for rise time:')\n",
    "print('mean, median, weighted mean: {:.5f}, {:.5f}, {:.5f}'.format(np.mean(t_rise_50[normal_lowz]), np.median(t_rise_50[normal_lowz]),\n",
    "                                                                   np.average(t_rise_50[normal_lowz], \n",
    "                                                                              weights=w_i[normal_lowz])))\n",
    "print('std, sMAD, sigma w_mean: {:.5f}, {:.5f}, {:.5f}'.format(np.std(t_rise_50[normal_lowz], ddof=1), \n",
    "                                                       1.4826*np.median(np.abs(t_rise_50[normal_lowz] - np.median(t_rise_50[normal_lowz]))),\n",
    "                                                       1/np.sum(w_i[normal_lowz])*np.sqrt(np.sum((w_i[normal_lowz]*sigma_i[normal_lowz])**2))))\n",
    "\n",
    "print('  If you restrict to only \"good\" SNe however:')\n",
    "print('    mean, median, weighted mean: {:.5f}, {:.5f}, {:.5f}'.format(np.mean(t_rise_50[normal_good_lowz]), np.median(t_rise_50[normal_good_lowz]),\n",
    "                                                                   np.average(t_rise_50[normal_good_lowz], \n",
    "                                                                              weights=w_i[normal_good_lowz])))\n",
    "print('    std, sMAD, sigma w_mean: {:.5f}, {:.5f}, {:.5f}'.format(np.std(t_rise_50[normal_good_lowz], ddof=1), \n",
    "                                                                   1.4826*np.median(np.abs(t_rise_50[normal_good_lowz] - np.median(t_rise_50[normal_good_lowz]))), \n",
    "                                                                   1/np.sum(w_i[normal_good_lowz])*np.sqrt(np.sum((w_i[normal_good_lowz]*sigma_i[normal_good_lowz])**2))))\n",
    "\n",
    "print('\\tFurther restrict to host-z SNe however:')\n",
    "print('\\t  mean, median, weighted mean: {:.5f}, {:.5f}, {:.5f}'.format(np.mean(t_rise_50[normal_good_host_lowz]), np.median(t_rise_50[normal_good_host_lowz]),\n",
    "                                                                   np.average(t_rise_50[normal_good_host_lowz], \n",
    "                                                                              weights=w_i[normal_good_host_lowz])))\n",
    "print('\\t  std, sMAD, sigma w_mean: {:.5f}, {:.5f}, {:.5f}'.format(np.std(t_rise_50[normal_good_host_lowz], ddof=1), \n",
    "                                                                   1.4826*np.median(np.abs(t_rise_50[normal_good_host_lowz] - np.median(t_rise_50[normal_good_host_lowz]))), \n",
    "                                                                   1/np.sum(w_i[normal_good_host_lowz])*np.sqrt(np.sum((w_i[normal_good_host_lowz]*sigma_i[normal_good_host_lowz])**2))))"
   ]
  },
  {
   "cell_type": "code",
   "execution_count": 24,
   "metadata": {},
   "outputs": [
    {
     "name": "stdout",
     "output_type": "stream",
     "text": [
      "The following are summary statistics for alpha_g:\n",
      "mean, median, weighted mean: 2.54483, 2.50204, 2.14300\n",
      "std, sMAD, sigma w_mean: 0.55384, 0.36168, 0.03123\n",
      "  If you restrict to only \"good\" SNe however:\n",
      "    mean, median, weighted mean: 2.54483, 2.50204, 2.14300\n",
      "    std, sMAD, sigma w_mean: 0.55384, 0.36168, 0.03123\n",
      "\tFurther restrict to host-z SNe however:\n",
      "\t  mean, median, weighted mean: 2.54483, 2.50204, 2.14300\n",
      "\t  std, sMAD, sigma w_mean: 0.55384, 0.36168, 0.03123\n"
     ]
    }
   ],
   "source": [
    "sigma_i = (flat_alpha_g_84-flat_alpha_g_16)/2\n",
    "w_i = (sigma_i)**(-2)\n",
    "\n",
    "print('The following are summary statistics for alpha_g:')\n",
    "print('mean, median, weighted mean: {:.5f}, {:.5f}, {:.5f}'.format(np.mean(flat_alpha_g_50[normal_lowz]), np.median(flat_alpha_g_50[normal_lowz]),\n",
    "                                                                   np.average(flat_alpha_g_50[normal_lowz], \n",
    "                                                                              weights=w_i[normal_lowz])))\n",
    "print('std, sMAD, sigma w_mean: {:.5f}, {:.5f}, {:.5f}'.format(np.std(flat_alpha_g_50[normal_lowz], ddof=1), \n",
    "                                                       1.4826*np.median(np.abs(flat_alpha_g_50[normal_lowz] - np.median(flat_alpha_g_50[normal_lowz]))),\n",
    "                                                       1/np.sum(w_i[normal_lowz])*np.sqrt(np.sum((w_i[normal_lowz]*sigma_i[normal_lowz])**2))))\n",
    "\n",
    "print('  If you restrict to only \"good\" SNe however:')\n",
    "print('    mean, median, weighted mean: {:.5f}, {:.5f}, {:.5f}'.format(np.mean(flat_alpha_g_50[normal_good_lowz]), np.median(flat_alpha_g_50[normal_good_lowz]),\n",
    "                                                                   np.average(flat_alpha_g_50[normal_good_lowz], \n",
    "                                                                              weights=w_i[normal_good_lowz])))\n",
    "print('    std, sMAD, sigma w_mean: {:.5f}, {:.5f}, {:.5f}'.format(np.std(flat_alpha_g_50[normal_good_lowz], ddof=1), \n",
    "                                                                   1.4826*np.median(np.abs(flat_alpha_g_50[normal_good_lowz] - np.median(flat_alpha_g_50[normal_good_lowz]))), \n",
    "                                                                   1/np.sum(w_i[normal_good_lowz])*np.sqrt(np.sum((w_i[normal_good_lowz]*sigma_i[normal_good_lowz])**2))))\n",
    "\n",
    "print('\\tFurther restrict to host-z SNe however:')\n",
    "print('\\t  mean, median, weighted mean: {:.5f}, {:.5f}, {:.5f}'.format(np.mean(flat_alpha_g_50[normal_good_host_lowz]), np.median(flat_alpha_g_50[normal_good_host_lowz]),\n",
    "                                                                   np.average(flat_alpha_g_50[normal_good_host_lowz], \n",
    "                                                                              weights=w_i[normal_good_host_lowz])))\n",
    "print('\\t  std, sMAD, sigma w_mean: {:.5f}, {:.5f}, {:.5f}'.format(np.std(flat_alpha_g_50[normal_good_host_lowz], ddof=1), \n",
    "                                                                   1.4826*np.median(np.abs(flat_alpha_g_50[normal_good_host_lowz] - np.median(flat_alpha_g_50[normal_good_host_lowz]))), \n",
    "                                                                   1/np.sum(w_i[normal_good_host_lowz])*np.sqrt(np.sum((w_i[normal_good_host_lowz]*sigma_i[normal_good_host_lowz])**2))))"
   ]
  },
  {
   "cell_type": "code",
   "execution_count": 25,
   "metadata": {},
   "outputs": [
    {
     "name": "stdout",
     "output_type": "stream",
     "text": [
      "The following are summary statistics for alpha_g:\n",
      "mean, median, weighted mean: 2.34931, 2.42209, 2.01934\n",
      "std, sMAD, sigma w_mean: 0.52445, 0.26803, 0.03148\n",
      "  If you restrict to only \"good\" SNe however:\n",
      "    mean, median, weighted mean: 2.34931, 2.42209, 2.01934\n",
      "    std, sMAD, sigma w_mean: 0.52445, 0.26803, 0.03148\n",
      "\tFurther restrict to host-z SNe however:\n",
      "\t  mean, median, weighted mean: 2.34931, 2.42209, 2.01934\n",
      "\t  std, sMAD, sigma w_mean: 0.52445, 0.26803, 0.03148\n"
     ]
    }
   ],
   "source": [
    "sigma_i = (flat_alpha_r_84-flat_alpha_r_16)/2\n",
    "w_i = (sigma_i)**(-2)\n",
    "\n",
    "print('The following are summary statistics for alpha_r:')\n",
    "print('mean, median, weighted mean: {:.5f}, {:.5f}, {:.5f}'.format(np.mean(flat_alpha_r_50[normal_lowz]), np.median(flat_alpha_r_50[normal_lowz]),\n",
    "                                                                   np.average(flat_alpha_r_50[normal_lowz], \n",
    "                                                                              weights=w_i[normal_lowz])))\n",
    "print('std, sMAD, sigma w_mean: {:.5f}, {:.5f}, {:.5f}'.format(np.std(flat_alpha_r_50[normal_lowz], ddof=1), \n",
    "                                                       1.4826*np.median(np.abs(flat_alpha_r_50[normal_lowz] - np.median(flat_alpha_r_50[normal_lowz]))),\n",
    "                                                       1/np.sum(w_i[normal_lowz])*np.sqrt(np.sum((w_i[normal_lowz]*sigma_i[normal_lowz])**2))))\n",
    "\n",
    "print('  If you restrict to only \"good\" SNe however:')\n",
    "print('    mean, median, weighted mean: {:.5f}, {:.5f}, {:.5f}'.format(np.mean(flat_alpha_r_50[normal_good_lowz]), np.median(flat_alpha_r_50[normal_good_lowz]),\n",
    "                                                                   np.average(flat_alpha_r_50[normal_good_lowz], \n",
    "                                                                              weights=w_i[normal_good_lowz])))\n",
    "print('    std, sMAD, sigma w_mean: {:.5f}, {:.5f}, {:.5f}'.format(np.std(flat_alpha_r_50[normal_good_lowz], ddof=1), \n",
    "                                                                   1.4826*np.median(np.abs(flat_alpha_r_50[normal_good_lowz] - np.median(flat_alpha_r_50[normal_good_lowz]))), \n",
    "                                                                   1/np.sum(w_i[normal_good_lowz])*np.sqrt(np.sum((w_i[normal_good_lowz]*sigma_i[normal_good_lowz])**2))))\n",
    "\n",
    "print('\\tFurther restrict to host-z SNe however:')\n",
    "print('\\t  mean, median, weighted mean: {:.5f}, {:.5f}, {:.5f}'.format(np.mean(flat_alpha_r_50[normal_good_host_lowz]), np.median(flat_alpha_r_50[normal_good_host_lowz]),\n",
    "                                                                   np.average(flat_alpha_r_50[normal_good_host_lowz], \n",
    "                                                                              weights=w_i[normal_good_host_lowz])))\n",
    "print('\\t  std, sMAD, sigma w_mean: {:.5f}, {:.5f}, {:.5f}'.format(np.std(flat_alpha_r_50[normal_good_host_lowz], ddof=1), \n",
    "                                                                   1.4826*np.median(np.abs(flat_alpha_r_50[normal_good_host_lowz] - np.median(flat_alpha_r_50[normal_good_host_lowz]))), \n",
    "                                                                   1/np.sum(w_i[normal_good_host_lowz])*np.sqrt(np.sum((w_i[normal_good_host_lowz]*sigma_i[normal_good_host_lowz])**2))))"
   ]
  },
  {
   "cell_type": "code",
   "execution_count": null,
   "metadata": {},
   "outputs": [],
   "source": []
  }
 ],
 "metadata": {
  "kernelspec": {
   "display_name": "Python 3",
   "language": "python",
   "name": "python3"
  },
  "language_info": {
   "codemirror_mode": {
    "name": "ipython",
    "version": 3
   },
   "file_extension": ".py",
   "mimetype": "text/x-python",
   "name": "python",
   "nbconvert_exporter": "python",
   "pygments_lexer": "ipython3",
   "version": "3.7.1"
  }
 },
 "nbformat": 4,
 "nbformat_minor": 2
}
