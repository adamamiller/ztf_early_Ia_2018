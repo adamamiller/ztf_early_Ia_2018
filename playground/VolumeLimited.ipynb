{
 "cells": [
  {
   "cell_type": "code",
   "execution_count": 1,
   "metadata": {},
   "outputs": [],
   "source": [
    "import numpy as np\n",
    "import pandas as pd\n",
    "import matplotlib.pyplot as plt\n",
    "from matplotlib.ticker import MultipleLocator\n",
    "\n",
    "from scipy.stats import spearmanr\n",
    "\n",
    "from uncertain_x.line_fit import uncertain_x"
   ]
  },
  {
   "cell_type": "code",
   "execution_count": 2,
   "metadata": {},
   "outputs": [],
   "source": [
    "%matplotlib notebook"
   ]
  },
  {
   "cell_type": "markdown",
   "metadata": {},
   "source": [
    "# Volume Limited Sample of Normal SNe Ia\n",
    "\n",
    "This notebook provides summary statistics when examining a volume limited sample of \"normal\" SNe Ia from the ZTF 2018 early sample."
   ]
  },
  {
   "cell_type": "code",
   "execution_count": 3,
   "metadata": {},
   "outputs": [],
   "source": [
    "info_path=\"../../forced_lightcurves/sample_lc_v2/\"\n",
    "salt_df = pd.read_csv(info_path + \"../../Nobs_cut_salt2_spec_subtype_pec.csv\")\n",
    "res = pd.read_csv('results_40percent.csv')\n",
    "res_tsquared = pd.read_csv('results_40_tsquared.csv')"
   ]
  },
  {
   "cell_type": "code",
   "execution_count": 4,
   "metadata": {},
   "outputs": [],
   "source": [
    "normal = np.where((salt_df['Ia subtype'] != 'Ia-CSM') & \n",
    "                  (salt_df['Ia subtype'] != 'SC') & \n",
    "                  (salt_df['Ia subtype'] != 'SC*') & \n",
    "                  (salt_df['Ia subtype'] != '86G-like') & \n",
    "                  (salt_df['Ia subtype'] != '02cx-like'))\n",
    "good = np.where(res.final_selection.values == 1)\n",
    "has_host_z = np.where(salt_df.z_source != 'Msl')\n",
    "\n",
    "normal_good = np.intersect1d(normal, good)\n",
    "normal_good_host = np.intersect1d(normal_good, has_host_z)\n",
    "\n",
    "# rearange for plotting\n",
    "normal_plot = np.setdiff1d(normal[0], normal_good)\n",
    "normal_good_plot = np.setdiff1d(normal_good, normal_good_host)"
   ]
  },
  {
   "cell_type": "code",
   "execution_count": 5,
   "metadata": {},
   "outputs": [
    {
     "name": "stdout",
     "output_type": "stream",
     "text": [
      "28\n",
      "16\n",
      "15\n"
     ]
    }
   ],
   "source": [
    "low_z = np.where(salt_df.z_adopt < 0.06)\n",
    "\n",
    "\n",
    "normal_lowz = np.intersect1d(low_z, normal)\n",
    "print(len(normal_lowz))\n",
    "normal_good_lowz = np.intersect1d(low_z, normal_good)\n",
    "print(len(normal_good_lowz))\n",
    "normal_good_host_lowz = np.intersect1d(low_z, normal_good_host)\n",
    "print(len(normal_good_host_lowz))"
   ]
  },
  {
   "cell_type": "code",
   "execution_count": 6,
   "metadata": {},
   "outputs": [],
   "source": [
    "t_rise_16 = res.t_rise_16.values.copy()\n",
    "t_rise_50 = res.t_rise_50.values.copy()\n",
    "t_rise_84 = res.t_rise_84.values.copy()\n",
    "\n",
    "sigma_i = (t_rise_84-t_rise_16)/2\n",
    "w_i = (sigma_i)**(-2)"
   ]
  },
  {
   "cell_type": "code",
   "execution_count": 7,
   "metadata": {},
   "outputs": [
    {
     "name": "stdout",
     "output_type": "stream",
     "text": [
      "The following are summary statistics for rise time:\n",
      "mean, median, weighted mean: 17.27950, 17.36291, 18.60908\n",
      "std, sMAD, sigma w_mean: 2.26067, 2.45129, 0.05104\n",
      "the slope is: 1.3532 +/- 0.0465\n",
      "the intercept is: 18.0829 +/- 0.5273\n",
      "the residual scatter is: 1.6949 d\n",
      " \n",
      "  If you restrict to only \"good\" SNe however:\n",
      "    mean, median, weighted mean: 18.33064, 18.03953, 18.90659\n",
      "    std, sMAD, sigma w_mean: 1.75491, 2.19984, 0.05318\n",
      "    the slope is: 0.9693 +/- 0.0041\n",
      "    the intercept is: 18.3813 +/- 0.0546\n",
      "    the residual scatter is: 1.4232 d\n",
      " \n",
      "\tFurther restrict to host-z SNe however:\n",
      "\t  mean, median, weighted mean: 18.47577, 18.34232, 18.94635\n",
      "\t  std, sMAD, sigma w_mean: 1.71424, 2.17898, 0.05356\n",
      "\t  the slope is: 0.9277 +/- 0.0032\n",
      "\t  the intercept is: 18.4191 +/- 0.0519\n",
      "\t  the residual scatter is: 1.4050 d\n"
     ]
    }
   ],
   "source": [
    "print('The following are summary statistics for rise time:')\n",
    "print('mean, median, weighted mean: {:.5f}, {:.5f}, {:.5f}'.format(np.mean(t_rise_50[normal_lowz]), np.median(t_rise_50[normal_lowz]),\n",
    "                                                                   np.average(t_rise_50[normal_lowz], \n",
    "                                                                              weights=w_i[normal_lowz])))\n",
    "print('std, sMAD, sigma w_mean: {:.5f}, {:.5f}, {:.5f}'.format(np.std(t_rise_50[normal_lowz], ddof=1), \n",
    "                                                       1.4826*np.median(np.abs(t_rise_50[normal_lowz] - np.median(t_rise_50[normal_lowz]))),\n",
    "                                                       1/np.sum(w_i[normal_lowz])*np.sqrt(np.sum((w_i[normal_lowz]*sigma_i[normal_lowz])**2))))\n",
    "\n",
    "salt_uninformative = uncertain_x.UncertainAbscissa('salt')\n",
    "salt_uninformative.add_data(salt_df.x1_salt2.values[normal_lowz], t_rise_50[normal_lowz], \n",
    "                            salt_df.x1_salt2_unc.values[normal_lowz], sigma_i[normal_lowz])\n",
    "salt_uninformative.mle_slope_intercept(slope_guess=1.0, intercept_guess=17)\n",
    "print('the slope is: {:.4f} +/- {:.4f}'.format(salt_uninformative.m, salt_uninformative.m_unc))\n",
    "print('the intercept is: {:.4f} +/- {:.4f}'.format(salt_uninformative.b, salt_uninformative.b_unc))\n",
    "\n",
    "residuals = t_rise_50[normal_lowz] - np.polyval([salt_uninformative.m, salt_uninformative.b], \n",
    "                                                salt_df.x1_salt2.values[normal_lowz])\n",
    "print('the residual scatter is: {:.4f} d'.format(np.std(residuals, ddof=1)))\n",
    "print(' ')\n",
    "print('  If you restrict to only \"good\" SNe however:')\n",
    "print('    mean, median, weighted mean: {:.5f}, {:.5f}, {:.5f}'.format(np.mean(t_rise_50[normal_good_lowz]), np.median(t_rise_50[normal_good_lowz]),\n",
    "                                                                   np.average(t_rise_50[normal_good_lowz], \n",
    "                                                                              weights=w_i[normal_good_lowz])))\n",
    "print('    std, sMAD, sigma w_mean: {:.5f}, {:.5f}, {:.5f}'.format(np.std(t_rise_50[normal_good_lowz], ddof=1), \n",
    "                                                                   1.4826*np.median(np.abs(t_rise_50[normal_good_lowz] - np.median(t_rise_50[normal_good_lowz]))), \n",
    "                                                                   1/np.sum(w_i[normal_good_lowz])*np.sqrt(np.sum((w_i[normal_good_lowz]*sigma_i[normal_good_lowz])**2))))\n",
    "salt_uninformative = uncertain_x.UncertainAbscissa('salt')\n",
    "salt_uninformative.add_data(salt_df.x1_salt2.values[normal_good_lowz], t_rise_50[normal_good_lowz], \n",
    "                            salt_df.x1_salt2_unc.values[normal_good_lowz], sigma_i[normal_good_lowz])\n",
    "salt_uninformative.mle_slope_intercept(slope_guess=0.85, intercept_guess=17)\n",
    "print('    the slope is: {:.4f} +/- {:.4f}'.format(salt_uninformative.m, salt_uninformative.m_unc))\n",
    "print('    the intercept is: {:.4f} +/- {:.4f}'.format(salt_uninformative.b, salt_uninformative.b_unc))\n",
    "\n",
    "residuals = t_rise_50[normal_good_lowz] - np.polyval([salt_uninformative.m, salt_uninformative.b], \n",
    "                                                salt_df.x1_salt2.values[normal_good_lowz])\n",
    "print('    the residual scatter is: {:.4f} d'.format(np.std(residuals, ddof=1)))\n",
    "print(' ')\n",
    "print('\\tFurther restrict to host-z SNe however:')\n",
    "print('\\t  mean, median, weighted mean: {:.5f}, {:.5f}, {:.5f}'.format(np.mean(t_rise_50[normal_good_host_lowz]), np.median(t_rise_50[normal_good_host_lowz]),\n",
    "                                                                   np.average(t_rise_50[normal_good_host_lowz], \n",
    "                                                                              weights=w_i[normal_good_host_lowz])))\n",
    "print('\\t  std, sMAD, sigma w_mean: {:.5f}, {:.5f}, {:.5f}'.format(np.std(t_rise_50[normal_good_host_lowz], ddof=1), \n",
    "                                                                   1.4826*np.median(np.abs(t_rise_50[normal_good_host_lowz] - np.median(t_rise_50[normal_good_host_lowz]))), \n",
    "                                                                   1/np.sum(w_i[normal_good_host_lowz])*np.sqrt(np.sum((w_i[normal_good_host_lowz]*sigma_i[normal_good_host_lowz])**2))))\n",
    "\n",
    "salt_uninformative = uncertain_x.UncertainAbscissa('salt')\n",
    "salt_uninformative.add_data(salt_df.x1_salt2.values[normal_good_host_lowz], t_rise_50[normal_good_host_lowz], \n",
    "                            salt_df.x1_salt2_unc.values[normal_good_host_lowz], sigma_i[normal_good_host_lowz])\n",
    "salt_uninformative.mle_slope_intercept(slope_guess=0.85, intercept_guess=17)\n",
    "print('\\t  the slope is: {:.4f} +/- {:.4f}'.format(salt_uninformative.m, salt_uninformative.m_unc))\n",
    "print('\\t  the intercept is: {:.4f} +/- {:.4f}'.format(salt_uninformative.b, salt_uninformative.b_unc))\n",
    "\n",
    "residuals = t_rise_50[normal_good_host_lowz] - np.polyval([salt_uninformative.m, salt_uninformative.b], \n",
    "                                                salt_df.x1_salt2.values[normal_good_host_lowz])\n",
    "print('\\t  the residual scatter is: {:.4f} d'.format(np.std(residuals, ddof=1)))"
   ]
  },
  {
   "cell_type": "code",
   "execution_count": 8,
   "metadata": {},
   "outputs": [],
   "source": [
    "flat_alpha_g_16 = res.flat_alpha_g_16.values.copy()\n",
    "flat_alpha_g_50 = res.flat_alpha_g_50.values.copy()\n",
    "flat_alpha_g_84 = res.flat_alpha_g_84.values.copy()\n",
    "\n",
    "sigma_i = (flat_alpha_g_84-flat_alpha_g_16)/2\n",
    "w_i = (sigma_i)**(-2)"
   ]
  },
  {
   "cell_type": "code",
   "execution_count": 9,
   "metadata": {},
   "outputs": [
    {
     "name": "stdout",
     "output_type": "stream",
     "text": [
      "The following are summary statistics for alpha_g:\n",
      "mean, median, weighted mean: 2.10809, 2.21567, 2.05053\n",
      "std, sMAD, sigma w_mean: 0.75758, 0.88782, 0.02759\n",
      "  If you restrict to only \"good\" SNe however:\n",
      "    mean, median, weighted mean: 2.31110, 2.33805, 2.13332\n",
      "    std, sMAD, sigma w_mean: 0.53738, 0.40565, 0.02906\n",
      "\tFurther restrict to host-z SNe however:\n",
      "\t  mean, median, weighted mean: 2.36384, 2.36108, 2.13994\n",
      "\t  std, sMAD, sigma w_mean: 0.51158, 0.42534, 0.02921\n"
     ]
    }
   ],
   "source": [
    "print('The following are summary statistics for alpha_g:')\n",
    "print('mean, median, weighted mean: {:.5f}, {:.5f}, {:.5f}'.format(np.mean(flat_alpha_g_50[normal_lowz]), np.median(flat_alpha_g_50[normal_lowz]),\n",
    "                                                                   np.average(flat_alpha_g_50[normal_lowz], \n",
    "                                                                              weights=w_i[normal_lowz])))\n",
    "print('std, sMAD, sigma w_mean: {:.5f}, {:.5f}, {:.5f}'.format(np.std(flat_alpha_g_50[normal_lowz], ddof=1), \n",
    "                                                       1.4826*np.median(np.abs(flat_alpha_g_50[normal_lowz] - np.median(flat_alpha_g_50[normal_lowz]))),\n",
    "                                                       1/np.sum(w_i[normal_lowz])*np.sqrt(np.sum((w_i[normal_lowz]*sigma_i[normal_lowz])**2))))\n",
    "\n",
    "print('  If you restrict to only \"good\" SNe however:')\n",
    "print('    mean, median, weighted mean: {:.5f}, {:.5f}, {:.5f}'.format(np.mean(flat_alpha_g_50[normal_good_lowz]), np.median(flat_alpha_g_50[normal_good_lowz]),\n",
    "                                                                   np.average(flat_alpha_g_50[normal_good_lowz], \n",
    "                                                                              weights=w_i[normal_good_lowz])))\n",
    "print('    std, sMAD, sigma w_mean: {:.5f}, {:.5f}, {:.5f}'.format(np.std(flat_alpha_g_50[normal_good_lowz], ddof=1), \n",
    "                                                                   1.4826*np.median(np.abs(flat_alpha_g_50[normal_good_lowz] - np.median(flat_alpha_g_50[normal_good_lowz]))), \n",
    "                                                                   1/np.sum(w_i[normal_good_lowz])*np.sqrt(np.sum((w_i[normal_good_lowz]*sigma_i[normal_good_lowz])**2))))\n",
    "\n",
    "print('\\tFurther restrict to host-z SNe however:')\n",
    "print('\\t  mean, median, weighted mean: {:.5f}, {:.5f}, {:.5f}'.format(np.mean(flat_alpha_g_50[normal_good_host_lowz]), np.median(flat_alpha_g_50[normal_good_host_lowz]),\n",
    "                                                                   np.average(flat_alpha_g_50[normal_good_host_lowz], \n",
    "                                                                              weights=w_i[normal_good_host_lowz])))\n",
    "print('\\t  std, sMAD, sigma w_mean: {:.5f}, {:.5f}, {:.5f}'.format(np.std(flat_alpha_g_50[normal_good_host_lowz], ddof=1), \n",
    "                                                                   1.4826*np.median(np.abs(flat_alpha_g_50[normal_good_host_lowz] - np.median(flat_alpha_g_50[normal_good_host_lowz]))), \n",
    "                                                                   1/np.sum(w_i[normal_good_host_lowz])*np.sqrt(np.sum((w_i[normal_good_host_lowz]*sigma_i[normal_good_host_lowz])**2))))"
   ]
  },
  {
   "cell_type": "code",
   "execution_count": 10,
   "metadata": {},
   "outputs": [],
   "source": [
    "flat_alpha_r_16 = res.flat_alpha_r_16.values.copy()\n",
    "flat_alpha_r_50 = res.flat_alpha_r_50.values.copy()\n",
    "flat_alpha_r_84 = res.flat_alpha_r_84.values.copy()\n",
    "\n",
    "sigma_i = (flat_alpha_r_84-flat_alpha_r_16)/2\n",
    "w_i = (sigma_i)**(-2)"
   ]
  },
  {
   "cell_type": "code",
   "execution_count": 11,
   "metadata": {},
   "outputs": [
    {
     "name": "stdout",
     "output_type": "stream",
     "text": [
      "The following are summary statistics for alpha_r:\n",
      "mean, median, weighted mean: 1.99435, 2.01032, 1.95093\n",
      "std, sMAD, sigma w_mean: 0.66800, 0.60663, 0.02783\n",
      "  If you restrict to only \"good\" SNe however:\n",
      "    mean, median, weighted mean: 2.11799, 2.13313, 2.00928\n",
      "    std, sMAD, sigma w_mean: 0.51820, 0.43057, 0.02911\n",
      "\tFurther restrict to host-z SNe however:\n",
      "\t  mean, median, weighted mean: 2.16755, 2.24131, 2.01793\n",
      "\t  std, sMAD, sigma w_mean: 0.49560, 0.40529, 0.02931\n"
     ]
    }
   ],
   "source": [
    "print('The following are summary statistics for alpha_r:')\n",
    "print('mean, median, weighted mean: {:.5f}, {:.5f}, {:.5f}'.format(np.mean(flat_alpha_r_50[normal_lowz]), np.median(flat_alpha_r_50[normal_lowz]),\n",
    "                                                                   np.average(flat_alpha_r_50[normal_lowz], \n",
    "                                                                              weights=w_i[normal_lowz])))\n",
    "print('std, sMAD, sigma w_mean: {:.5f}, {:.5f}, {:.5f}'.format(np.std(flat_alpha_r_50[normal_lowz], ddof=1), \n",
    "                                                       1.4826*np.median(np.abs(flat_alpha_r_50[normal_lowz] - np.median(flat_alpha_r_50[normal_lowz]))),\n",
    "                                                       1/np.sum(w_i[normal_lowz])*np.sqrt(np.sum((w_i[normal_lowz]*sigma_i[normal_lowz])**2))))\n",
    "\n",
    "print('  If you restrict to only \"good\" SNe however:')\n",
    "print('    mean, median, weighted mean: {:.5f}, {:.5f}, {:.5f}'.format(np.mean(flat_alpha_r_50[normal_good_lowz]), np.median(flat_alpha_r_50[normal_good_lowz]),\n",
    "                                                                   np.average(flat_alpha_r_50[normal_good_lowz], \n",
    "                                                                              weights=w_i[normal_good_lowz])))\n",
    "print('    std, sMAD, sigma w_mean: {:.5f}, {:.5f}, {:.5f}'.format(np.std(flat_alpha_r_50[normal_good_lowz], ddof=1), \n",
    "                                                                   1.4826*np.median(np.abs(flat_alpha_r_50[normal_good_lowz] - np.median(flat_alpha_r_50[normal_good_lowz]))), \n",
    "                                                                   1/np.sum(w_i[normal_good_lowz])*np.sqrt(np.sum((w_i[normal_good_lowz]*sigma_i[normal_good_lowz])**2))))\n",
    "\n",
    "print('\\tFurther restrict to host-z SNe however:')\n",
    "print('\\t  mean, median, weighted mean: {:.5f}, {:.5f}, {:.5f}'.format(np.mean(flat_alpha_r_50[normal_good_host_lowz]), np.median(flat_alpha_r_50[normal_good_host_lowz]),\n",
    "                                                                   np.average(flat_alpha_r_50[normal_good_host_lowz], \n",
    "                                                                              weights=w_i[normal_good_host_lowz])))\n",
    "print('\\t  std, sMAD, sigma w_mean: {:.5f}, {:.5f}, {:.5f}'.format(np.std(flat_alpha_r_50[normal_good_host_lowz], ddof=1), \n",
    "                                                                   1.4826*np.median(np.abs(flat_alpha_r_50[normal_good_host_lowz] - np.median(flat_alpha_r_50[normal_good_host_lowz]))), \n",
    "                                                                   1/np.sum(w_i[normal_good_host_lowz])*np.sqrt(np.sum((w_i[normal_good_host_lowz]*sigma_i[normal_good_host_lowz])**2))))"
   ]
  },
  {
   "cell_type": "code",
   "execution_count": 12,
   "metadata": {},
   "outputs": [],
   "source": [
    "flat_delta_16 = res.flat_delta_16.values.copy()\n",
    "flat_delta_50 = res.flat_delta_50.values.copy()\n",
    "flat_delta_84 = res.flat_delta_84.values.copy()\n",
    "\n",
    "sigma_i = (flat_delta_84-flat_delta_16)/2\n",
    "w_i = (sigma_i)**(-2)"
   ]
  },
  {
   "cell_type": "code",
   "execution_count": 13,
   "metadata": {},
   "outputs": [
    {
     "name": "stdout",
     "output_type": "stream",
     "text": [
      "The following are summary statistics for delta:\n",
      "mean, median, weighted mean: -0.13124, -0.18258, -0.20982\n",
      "std, sMAD, sigma w_mean: 0.86177, 0.16354, 0.01491\n",
      "  If you restrict to only \"good\" SNe however:\n",
      "    mean, median, weighted mean: -0.19327, -0.18258, -0.18466\n",
      "    std, sMAD, sigma w_mean: 0.08323, 0.08850, 0.01578\n",
      "\tFurther restrict to host-z SNe however:\n",
      "\t  mean, median, weighted mean: -0.19638, -0.18737, -0.18485\n",
      "\t  std, sMAD, sigma w_mean: 0.08519, 0.08902, 0.01582\n"
     ]
    }
   ],
   "source": [
    "print('The following are summary statistics for delta:')\n",
    "print('mean, median, weighted mean: {:.5f}, {:.5f}, {:.5f}'.format(np.mean(flat_delta_50[normal_lowz]), np.median(flat_delta_50[normal_lowz]),\n",
    "                                                                   np.average(flat_delta_50[normal_lowz], \n",
    "                                                                              weights=w_i[normal_lowz])))\n",
    "print('std, sMAD, sigma w_mean: {:.5f}, {:.5f}, {:.5f}'.format(np.std(flat_delta_50[normal_lowz], ddof=1), \n",
    "                                                       1.4826*np.median(np.abs(flat_delta_50[normal_lowz] - np.median(flat_delta_50[normal_lowz]))),\n",
    "                                                       1/np.sum(w_i[normal_lowz])*np.sqrt(np.sum((w_i[normal_lowz]*sigma_i[normal_lowz])**2))))\n",
    "\n",
    "print('  If you restrict to only \"good\" SNe however:')\n",
    "print('    mean, median, weighted mean: {:.5f}, {:.5f}, {:.5f}'.format(np.mean(flat_delta_50[normal_good_lowz]), np.median(flat_delta_50[normal_good_lowz]),\n",
    "                                                                   np.average(flat_delta_50[normal_good_lowz], \n",
    "                                                                              weights=w_i[normal_good_lowz])))\n",
    "print('    std, sMAD, sigma w_mean: {:.5f}, {:.5f}, {:.5f}'.format(np.std(flat_delta_50[normal_good_lowz], ddof=1), \n",
    "                                                                   1.4826*np.median(np.abs(flat_delta_50[normal_good_lowz] - np.median(flat_delta_50[normal_good_lowz]))), \n",
    "                                                                   1/np.sum(w_i[normal_good_lowz])*np.sqrt(np.sum((w_i[normal_good_lowz]*sigma_i[normal_good_lowz])**2))))\n",
    "\n",
    "print('\\tFurther restrict to host-z SNe however:')\n",
    "print('\\t  mean, median, weighted mean: {:.5f}, {:.5f}, {:.5f}'.format(np.mean(flat_delta_50[normal_good_host_lowz]), np.median(flat_delta_50[normal_good_host_lowz]),\n",
    "                                                                   np.average(flat_delta_50[normal_good_host_lowz], \n",
    "                                                                              weights=w_i[normal_good_host_lowz])))\n",
    "print('\\t  std, sMAD, sigma w_mean: {:.5f}, {:.5f}, {:.5f}'.format(np.std(flat_delta_50[normal_good_host_lowz], ddof=1), \n",
    "                                                                   1.4826*np.median(np.abs(flat_delta_50[normal_good_host_lowz] - np.median(flat_delta_50[normal_good_host_lowz]))), \n",
    "                                                                   1/np.sum(w_i[normal_good_host_lowz])*np.sqrt(np.sum((w_i[normal_good_host_lowz]*sigma_i[normal_good_host_lowz])**2))))"
   ]
  },
  {
   "cell_type": "markdown",
   "metadata": {},
   "source": [
    "### Repeat analysis for the t^2 SNe"
   ]
  },
  {
   "cell_type": "code",
   "execution_count": 14,
   "metadata": {},
   "outputs": [
    {
     "name": "stdout",
     "output_type": "stream",
     "text": [
      "28\n",
      "27\n",
      "24\n"
     ]
    }
   ],
   "source": [
    "t_rise_16 = res_tsquared.t_rise_16.values.copy()\n",
    "t_rise_50 = res_tsquared.t_rise_50.values.copy()\n",
    "t_rise_84 = res_tsquared.t_rise_84.values.copy()\n",
    "\n",
    "sigma_i = (t_rise_84-t_rise_16)/2\n",
    "w_i = (sigma_i)**(-2)\n",
    "\n",
    "normal = np.where((salt_df['Ia subtype'] != 'Ia-CSM') & \n",
    "                  (salt_df['Ia subtype'] != 'SC') & \n",
    "                  (salt_df['Ia subtype'] != 'SC*') & \n",
    "                  (salt_df['Ia subtype'] != '86G-like') & \n",
    "                  (salt_df['Ia subtype'] != '02cx-like'))\n",
    "good = np.where(res_tsquared.final_selection.values == 1)\n",
    "has_host_z = np.where(salt_df.z_source != 'Msl')\n",
    "\n",
    "normal_good = np.intersect1d(normal, good)\n",
    "normal_good_host = np.intersect1d(normal_good, has_host_z)\n",
    "\n",
    "normal_lowz = np.intersect1d(low_z, normal)\n",
    "print(len(normal_lowz))\n",
    "normal_good_lowz = np.intersect1d(low_z, normal_good)\n",
    "print(len(normal_good_lowz))\n",
    "normal_good_host_lowz = np.intersect1d(low_z, normal_good_host)\n",
    "print(len(normal_good_host_lowz))"
   ]
  },
  {
   "cell_type": "code",
   "execution_count": 15,
   "metadata": {},
   "outputs": [
    {
     "name": "stdout",
     "output_type": "stream",
     "text": [
      "The following are summary statistics for rise time:\n",
      "mean, median, weighted mean: 21.02554, 21.06754, 21.67834\n",
      "std, sMAD, sigma w_mean: 1.53019, 2.00500, 0.02098\n",
      "the slope is: 1.6133 +/- 0.0056\n",
      "the intercept is: 21.4193 +/- 0.0661\n",
      "the residual scatter is: 0.7537 d\n",
      " \n",
      "  If you restrict to only \"good\" SNe however:\n",
      "    mean, median, weighted mean: 21.09506, 21.09685, 21.67924\n",
      "    std, sMAD, sigma w_mean: 1.51362, 1.99175, 0.02099\n",
      "    the slope is: 1.6139 +/- 0.0067\n",
      "    the intercept is: 21.4190 +/- 0.1315\n",
      "    the residual scatter is: 0.7673 d\n",
      " \n",
      "\tFurther restrict to host-z SNe however:\n",
      "\t  mean, median, weighted mean: 21.00512, 21.06754, 21.67414\n",
      "\t  std, sMAD, sigma w_mean: 1.55564, 2.00500, 0.02118\n",
      "\t  the slope is: 1.6148 +/- 0.0297\n",
      "\t  the intercept is: 21.4179 +/- 0.0316\n",
      "\t  the residual scatter is: 0.8103 d\n"
     ]
    }
   ],
   "source": [
    "print('The following are summary statistics for rise time:')\n",
    "print('mean, median, weighted mean: {:.5f}, {:.5f}, {:.5f}'.format(np.mean(t_rise_50[normal_lowz]), np.median(t_rise_50[normal_lowz]),\n",
    "                                                                   np.average(t_rise_50[normal_lowz], \n",
    "                                                                              weights=w_i[normal_lowz])))\n",
    "print('std, sMAD, sigma w_mean: {:.5f}, {:.5f}, {:.5f}'.format(np.std(t_rise_50[normal_lowz], ddof=1), \n",
    "                                                       1.4826*np.median(np.abs(t_rise_50[normal_lowz] - np.median(t_rise_50[normal_lowz]))),\n",
    "                                                       1/np.sum(w_i[normal_lowz])*np.sqrt(np.sum((w_i[normal_lowz]*sigma_i[normal_lowz])**2))))\n",
    "\n",
    "salt_uninformative = uncertain_x.UncertainAbscissa('salt')\n",
    "salt_uninformative.add_data(salt_df.x1_salt2.values[normal_lowz], t_rise_50[normal_lowz], \n",
    "                            salt_df.x1_salt2_unc.values[normal_lowz], sigma_i[normal_lowz])\n",
    "salt_uninformative.mle_slope_intercept(slope_guess=1.5, intercept_guess=20)\n",
    "print('the slope is: {:.4f} +/- {:.4f}'.format(salt_uninformative.m, salt_uninformative.m_unc))\n",
    "print('the intercept is: {:.4f} +/- {:.4f}'.format(salt_uninformative.b, salt_uninformative.b_unc))\n",
    "\n",
    "residuals = t_rise_50[normal_lowz] - np.polyval([salt_uninformative.m, salt_uninformative.b], \n",
    "                                                salt_df.x1_salt2.values[normal_lowz])\n",
    "print('the residual scatter is: {:.4f} d'.format(np.std(residuals, ddof=1)))\n",
    "print(' ')\n",
    "print('  If you restrict to only \"good\" SNe however:')\n",
    "print('    mean, median, weighted mean: {:.5f}, {:.5f}, {:.5f}'.format(np.mean(t_rise_50[normal_good_lowz]), np.median(t_rise_50[normal_good_lowz]),\n",
    "                                                                   np.average(t_rise_50[normal_good_lowz], \n",
    "                                                                              weights=w_i[normal_good_lowz])))\n",
    "print('    std, sMAD, sigma w_mean: {:.5f}, {:.5f}, {:.5f}'.format(np.std(t_rise_50[normal_good_lowz], ddof=1), \n",
    "                                                                   1.4826*np.median(np.abs(t_rise_50[normal_good_lowz] - np.median(t_rise_50[normal_good_lowz]))), \n",
    "                                                                   1/np.sum(w_i[normal_good_lowz])*np.sqrt(np.sum((w_i[normal_good_lowz]*sigma_i[normal_good_lowz])**2))))\n",
    "salt_uninformative = uncertain_x.UncertainAbscissa('salt')\n",
    "salt_uninformative.add_data(salt_df.x1_salt2.values[normal_good_lowz], t_rise_50[normal_good_lowz], \n",
    "                            salt_df.x1_salt2_unc.values[normal_good_lowz], sigma_i[normal_good_lowz])\n",
    "salt_uninformative.mle_slope_intercept(slope_guess=1.5, intercept_guess=20)\n",
    "print('    the slope is: {:.4f} +/- {:.4f}'.format(salt_uninformative.m, salt_uninformative.m_unc))\n",
    "print('    the intercept is: {:.4f} +/- {:.4f}'.format(salt_uninformative.b, salt_uninformative.b_unc))\n",
    "\n",
    "residuals = t_rise_50[normal_good_lowz] - np.polyval([salt_uninformative.m, salt_uninformative.b], \n",
    "                                                salt_df.x1_salt2.values[normal_good_lowz])\n",
    "print('    the residual scatter is: {:.4f} d'.format(np.std(residuals, ddof=1)))\n",
    "print(' ')\n",
    "print('\\tFurther restrict to host-z SNe however:')\n",
    "print('\\t  mean, median, weighted mean: {:.5f}, {:.5f}, {:.5f}'.format(np.mean(t_rise_50[normal_good_host_lowz]), np.median(t_rise_50[normal_good_host_lowz]),\n",
    "                                                                   np.average(t_rise_50[normal_good_host_lowz], \n",
    "                                                                              weights=w_i[normal_good_host_lowz])))\n",
    "print('\\t  std, sMAD, sigma w_mean: {:.5f}, {:.5f}, {:.5f}'.format(np.std(t_rise_50[normal_good_host_lowz], ddof=1), \n",
    "                                                                   1.4826*np.median(np.abs(t_rise_50[normal_good_host_lowz] - np.median(t_rise_50[normal_good_host_lowz]))), \n",
    "                                                                   1/np.sum(w_i[normal_good_host_lowz])*np.sqrt(np.sum((w_i[normal_good_host_lowz]*sigma_i[normal_good_host_lowz])**2))))\n",
    "\n",
    "salt_uninformative = uncertain_x.UncertainAbscissa('salt')\n",
    "salt_uninformative.add_data(salt_df.x1_salt2.values[normal_good_host_lowz], t_rise_50[normal_good_host_lowz], \n",
    "                            salt_df.x1_salt2_unc.values[normal_good_host_lowz], sigma_i[normal_good_host_lowz])\n",
    "salt_uninformative.mle_slope_intercept(slope_guess=1.5, intercept_guess=20)\n",
    "print('\\t  the slope is: {:.4f} +/- {:.4f}'.format(salt_uninformative.m, salt_uninformative.m_unc))\n",
    "print('\\t  the intercept is: {:.4f} +/- {:.4f}'.format(salt_uninformative.b, salt_uninformative.b_unc))\n",
    "\n",
    "residuals = t_rise_50[normal_good_host_lowz] - np.polyval([salt_uninformative.m, salt_uninformative.b], \n",
    "                                                salt_df.x1_salt2.values[normal_good_host_lowz])\n",
    "print('\\t  the residual scatter is: {:.4f} d'.format(np.std(residuals, ddof=1)))"
   ]
  },
  {
   "cell_type": "markdown",
   "metadata": {},
   "source": [
    "### Repeat analysis for the mixed sample of SNe"
   ]
  },
  {
   "cell_type": "code",
   "execution_count": 16,
   "metadata": {},
   "outputs": [],
   "source": [
    "dic_df = pd.read_csv('dic_results.csv')"
   ]
  },
  {
   "cell_type": "code",
   "execution_count": 17,
   "metadata": {},
   "outputs": [
    {
     "name": "stdout",
     "output_type": "stream",
     "text": [
      "13\n"
     ]
    }
   ],
   "source": [
    "no_t2 = np.where(((dic_df.dic_evidence == 'decisive') | (dic_df.dic_evidence == 'very strong')) &  \n",
    "                 (res.final_selection == 1))[0]\n",
    "print(len(no_t2))"
   ]
  },
  {
   "cell_type": "code",
   "execution_count": 18,
   "metadata": {},
   "outputs": [],
   "source": [
    "t_rise_16[no_t2] = res.t_rise_16.values.copy()[no_t2]\n",
    "t_rise_50[no_t2] = res.t_rise_50.values.copy()[no_t2]\n",
    "t_rise_84[no_t2] = res.t_rise_84.values.copy()[no_t2]\n",
    "\n",
    "sigma_i = (t_rise_84-t_rise_16)/2\n",
    "w_i = (sigma_i)**(-2)"
   ]
  },
  {
   "cell_type": "code",
   "execution_count": 19,
   "metadata": {},
   "outputs": [
    {
     "name": "stdout",
     "output_type": "stream",
     "text": [
      "The following are summary statistics for rise time:\n",
      "mean, median, weighted mean: 20.23374, 20.03293, 19.86819\n",
      "std, sMAD, sigma w_mean: 1.45862, 1.46410, 0.03351\n",
      "  If you restrict to only \"good\" SNe however:\n",
      "    mean, median, weighted mean: 20.27393, 20.03496, 19.86884\n",
      "    std, sMAD, sigma w_mean: 1.47052, 1.47377, 0.03352\n",
      "\tFurther restrict to host-z SNe however:\n",
      "\t  mean, median, weighted mean: 20.08135, 19.92943, 19.76657\n",
      "\t  std, sMAD, sigma w_mean: 1.41504, 1.44402, 0.03434\n"
     ]
    }
   ],
   "source": [
    "print('The following are summary statistics for rise time:')\n",
    "print('mean, median, weighted mean: {:.5f}, {:.5f}, {:.5f}'.format(np.mean(t_rise_50[normal_lowz]), np.median(t_rise_50[normal_lowz]),\n",
    "                                                                   np.average(t_rise_50[normal_lowz], \n",
    "                                                                              weights=w_i[normal_lowz])))\n",
    "print('std, sMAD, sigma w_mean: {:.5f}, {:.5f}, {:.5f}'.format(np.std(t_rise_50[normal_lowz], ddof=1), \n",
    "                                                       1.4826*np.median(np.abs(t_rise_50[normal_lowz] - np.median(t_rise_50[normal_lowz]))),\n",
    "                                                       1/np.sum(w_i[normal_lowz])*np.sqrt(np.sum((w_i[normal_lowz]*sigma_i[normal_lowz])**2))))\n",
    "\n",
    "print('  If you restrict to only \"good\" SNe however:')\n",
    "print('    mean, median, weighted mean: {:.5f}, {:.5f}, {:.5f}'.format(np.mean(t_rise_50[normal_good_lowz]), np.median(t_rise_50[normal_good_lowz]),\n",
    "                                                                   np.average(t_rise_50[normal_good_lowz], \n",
    "                                                                              weights=w_i[normal_good_lowz])))\n",
    "print('    std, sMAD, sigma w_mean: {:.5f}, {:.5f}, {:.5f}'.format(np.std(t_rise_50[normal_good_lowz], ddof=1), \n",
    "                                                                   1.4826*np.median(np.abs(t_rise_50[normal_good_lowz] - np.median(t_rise_50[normal_good_lowz]))), \n",
    "                                                                   1/np.sum(w_i[normal_good_lowz])*np.sqrt(np.sum((w_i[normal_good_lowz]*sigma_i[normal_good_lowz])**2))))\n",
    "\n",
    "print('\\tFurther restrict to host-z SNe however:')\n",
    "print('\\t  mean, median, weighted mean: {:.5f}, {:.5f}, {:.5f}'.format(np.mean(t_rise_50[normal_good_host_lowz]), np.median(t_rise_50[normal_good_host_lowz]),\n",
    "                                                                   np.average(t_rise_50[normal_good_host_lowz], \n",
    "                                                                              weights=w_i[normal_good_host_lowz])))\n",
    "print('\\t  std, sMAD, sigma w_mean: {:.5f}, {:.5f}, {:.5f}'.format(np.std(t_rise_50[normal_good_host_lowz], ddof=1), \n",
    "                                                                   1.4826*np.median(np.abs(t_rise_50[normal_good_host_lowz] - np.median(t_rise_50[normal_good_host_lowz]))), \n",
    "                                                                   1/np.sum(w_i[normal_good_host_lowz])*np.sqrt(np.sum((w_i[normal_good_host_lowz]*sigma_i[normal_good_host_lowz])**2))))"
   ]
  },
  {
   "cell_type": "markdown",
   "metadata": {},
   "source": [
    "### Repeat analysis for just alpha != 2 (DIC selected subsection)"
   ]
  },
  {
   "cell_type": "code",
   "execution_count": 20,
   "metadata": {},
   "outputs": [
    {
     "name": "stdout",
     "output_type": "stream",
     "text": [
      "9\n"
     ]
    }
   ],
   "source": [
    "normal_lowz = np.intersect1d(normal_lowz, no_t2)\n",
    "normal_good_lowz = np.intersect1d(normal_good_lowz, no_t2)\n",
    "normal_good_host_lowz = np.intersect1d(normal_good_host_lowz, no_t2)\n",
    "\n",
    "print(len(normal_good_lowz))"
   ]
  },
  {
   "cell_type": "code",
   "execution_count": 21,
   "metadata": {},
   "outputs": [
    {
     "name": "stdout",
     "output_type": "stream",
     "text": [
      "The following are summary statistics for rise time:\n",
      "mean, median, weighted mean: 19.50173, 19.82794, 19.20143\n",
      "std, sMAD, sigma w_mean: 1.37550, 0.81695, 0.05686\n",
      "  If you restrict to only \"good\" SNe however:\n",
      "    mean, median, weighted mean: 19.50173, 19.82794, 19.20143\n",
      "    std, sMAD, sigma w_mean: 1.37550, 0.81695, 0.05686\n",
      "\tFurther restrict to host-z SNe however:\n",
      "\t  mean, median, weighted mean: 19.50173, 19.82794, 19.20143\n",
      "\t  std, sMAD, sigma w_mean: 1.37550, 0.81695, 0.05686\n"
     ]
    }
   ],
   "source": [
    "print('The following are summary statistics for rise time:')\n",
    "print('mean, median, weighted mean: {:.5f}, {:.5f}, {:.5f}'.format(np.mean(t_rise_50[normal_lowz]), np.median(t_rise_50[normal_lowz]),\n",
    "                                                                   np.average(t_rise_50[normal_lowz], \n",
    "                                                                              weights=w_i[normal_lowz])))\n",
    "print('std, sMAD, sigma w_mean: {:.5f}, {:.5f}, {:.5f}'.format(np.std(t_rise_50[normal_lowz], ddof=1), \n",
    "                                                       1.4826*np.median(np.abs(t_rise_50[normal_lowz] - np.median(t_rise_50[normal_lowz]))),\n",
    "                                                       1/np.sum(w_i[normal_lowz])*np.sqrt(np.sum((w_i[normal_lowz]*sigma_i[normal_lowz])**2))))\n",
    "\n",
    "print('  If you restrict to only \"good\" SNe however:')\n",
    "print('    mean, median, weighted mean: {:.5f}, {:.5f}, {:.5f}'.format(np.mean(t_rise_50[normal_good_lowz]), np.median(t_rise_50[normal_good_lowz]),\n",
    "                                                                   np.average(t_rise_50[normal_good_lowz], \n",
    "                                                                              weights=w_i[normal_good_lowz])))\n",
    "print('    std, sMAD, sigma w_mean: {:.5f}, {:.5f}, {:.5f}'.format(np.std(t_rise_50[normal_good_lowz], ddof=1), \n",
    "                                                                   1.4826*np.median(np.abs(t_rise_50[normal_good_lowz] - np.median(t_rise_50[normal_good_lowz]))), \n",
    "                                                                   1/np.sum(w_i[normal_good_lowz])*np.sqrt(np.sum((w_i[normal_good_lowz]*sigma_i[normal_good_lowz])**2))))\n",
    "\n",
    "print('\\tFurther restrict to host-z SNe however:')\n",
    "print('\\t  mean, median, weighted mean: {:.5f}, {:.5f}, {:.5f}'.format(np.mean(t_rise_50[normal_good_host_lowz]), np.median(t_rise_50[normal_good_host_lowz]),\n",
    "                                                                   np.average(t_rise_50[normal_good_host_lowz], \n",
    "                                                                              weights=w_i[normal_good_host_lowz])))\n",
    "print('\\t  std, sMAD, sigma w_mean: {:.5f}, {:.5f}, {:.5f}'.format(np.std(t_rise_50[normal_good_host_lowz], ddof=1), \n",
    "                                                                   1.4826*np.median(np.abs(t_rise_50[normal_good_host_lowz] - np.median(t_rise_50[normal_good_host_lowz]))), \n",
    "                                                                   1/np.sum(w_i[normal_good_host_lowz])*np.sqrt(np.sum((w_i[normal_good_host_lowz]*sigma_i[normal_good_host_lowz])**2))))"
   ]
  },
  {
   "cell_type": "code",
   "execution_count": 22,
   "metadata": {},
   "outputs": [
    {
     "name": "stdout",
     "output_type": "stream",
     "text": [
      "The following are summary statistics for alpha_g:\n",
      "mean, median, weighted mean: 2.54483, 2.50204, 2.14300\n",
      "std, sMAD, sigma w_mean: 0.55384, 0.36168, 0.03123\n",
      "  If you restrict to only \"good\" SNe however:\n",
      "    mean, median, weighted mean: 2.54483, 2.50204, 2.14300\n",
      "    std, sMAD, sigma w_mean: 0.55384, 0.36168, 0.03123\n",
      "\tFurther restrict to host-z SNe however:\n",
      "\t  mean, median, weighted mean: 2.54483, 2.50204, 2.14300\n",
      "\t  std, sMAD, sigma w_mean: 0.55384, 0.36168, 0.03123\n"
     ]
    }
   ],
   "source": [
    "sigma_i = (flat_alpha_g_84-flat_alpha_g_16)/2\n",
    "w_i = (sigma_i)**(-2)\n",
    "\n",
    "print('The following are summary statistics for alpha_g:')\n",
    "print('mean, median, weighted mean: {:.5f}, {:.5f}, {:.5f}'.format(np.mean(flat_alpha_g_50[normal_lowz]), np.median(flat_alpha_g_50[normal_lowz]),\n",
    "                                                                   np.average(flat_alpha_g_50[normal_lowz], \n",
    "                                                                              weights=w_i[normal_lowz])))\n",
    "print('std, sMAD, sigma w_mean: {:.5f}, {:.5f}, {:.5f}'.format(np.std(flat_alpha_g_50[normal_lowz], ddof=1), \n",
    "                                                       1.4826*np.median(np.abs(flat_alpha_g_50[normal_lowz] - np.median(flat_alpha_g_50[normal_lowz]))),\n",
    "                                                       1/np.sum(w_i[normal_lowz])*np.sqrt(np.sum((w_i[normal_lowz]*sigma_i[normal_lowz])**2))))\n",
    "\n",
    "print('  If you restrict to only \"good\" SNe however:')\n",
    "print('    mean, median, weighted mean: {:.5f}, {:.5f}, {:.5f}'.format(np.mean(flat_alpha_g_50[normal_good_lowz]), np.median(flat_alpha_g_50[normal_good_lowz]),\n",
    "                                                                   np.average(flat_alpha_g_50[normal_good_lowz], \n",
    "                                                                              weights=w_i[normal_good_lowz])))\n",
    "print('    std, sMAD, sigma w_mean: {:.5f}, {:.5f}, {:.5f}'.format(np.std(flat_alpha_g_50[normal_good_lowz], ddof=1), \n",
    "                                                                   1.4826*np.median(np.abs(flat_alpha_g_50[normal_good_lowz] - np.median(flat_alpha_g_50[normal_good_lowz]))), \n",
    "                                                                   1/np.sum(w_i[normal_good_lowz])*np.sqrt(np.sum((w_i[normal_good_lowz]*sigma_i[normal_good_lowz])**2))))\n",
    "\n",
    "print('\\tFurther restrict to host-z SNe however:')\n",
    "print('\\t  mean, median, weighted mean: {:.5f}, {:.5f}, {:.5f}'.format(np.mean(flat_alpha_g_50[normal_good_host_lowz]), np.median(flat_alpha_g_50[normal_good_host_lowz]),\n",
    "                                                                   np.average(flat_alpha_g_50[normal_good_host_lowz], \n",
    "                                                                              weights=w_i[normal_good_host_lowz])))\n",
    "print('\\t  std, sMAD, sigma w_mean: {:.5f}, {:.5f}, {:.5f}'.format(np.std(flat_alpha_g_50[normal_good_host_lowz], ddof=1), \n",
    "                                                                   1.4826*np.median(np.abs(flat_alpha_g_50[normal_good_host_lowz] - np.median(flat_alpha_g_50[normal_good_host_lowz]))), \n",
    "                                                                   1/np.sum(w_i[normal_good_host_lowz])*np.sqrt(np.sum((w_i[normal_good_host_lowz]*sigma_i[normal_good_host_lowz])**2))))"
   ]
  },
  {
   "cell_type": "code",
   "execution_count": 23,
   "metadata": {},
   "outputs": [
    {
     "name": "stdout",
     "output_type": "stream",
     "text": [
      "The following are summary statistics for alpha_r:\n",
      "mean, median, weighted mean: 2.34931, 2.42209, 2.01934\n",
      "std, sMAD, sigma w_mean: 0.52445, 0.26803, 0.03148\n",
      "  If you restrict to only \"good\" SNe however:\n",
      "    mean, median, weighted mean: 2.34931, 2.42209, 2.01934\n",
      "    std, sMAD, sigma w_mean: 0.52445, 0.26803, 0.03148\n",
      "\tFurther restrict to host-z SNe however:\n",
      "\t  mean, median, weighted mean: 2.34931, 2.42209, 2.01934\n",
      "\t  std, sMAD, sigma w_mean: 0.52445, 0.26803, 0.03148\n"
     ]
    }
   ],
   "source": [
    "sigma_i = (flat_alpha_r_84-flat_alpha_r_16)/2\n",
    "w_i = (sigma_i)**(-2)\n",
    "\n",
    "print('The following are summary statistics for alpha_r:')\n",
    "print('mean, median, weighted mean: {:.5f}, {:.5f}, {:.5f}'.format(np.mean(flat_alpha_r_50[normal_lowz]), np.median(flat_alpha_r_50[normal_lowz]),\n",
    "                                                                   np.average(flat_alpha_r_50[normal_lowz], \n",
    "                                                                              weights=w_i[normal_lowz])))\n",
    "print('std, sMAD, sigma w_mean: {:.5f}, {:.5f}, {:.5f}'.format(np.std(flat_alpha_r_50[normal_lowz], ddof=1), \n",
    "                                                       1.4826*np.median(np.abs(flat_alpha_r_50[normal_lowz] - np.median(flat_alpha_r_50[normal_lowz]))),\n",
    "                                                       1/np.sum(w_i[normal_lowz])*np.sqrt(np.sum((w_i[normal_lowz]*sigma_i[normal_lowz])**2))))\n",
    "\n",
    "print('  If you restrict to only \"good\" SNe however:')\n",
    "print('    mean, median, weighted mean: {:.5f}, {:.5f}, {:.5f}'.format(np.mean(flat_alpha_r_50[normal_good_lowz]), np.median(flat_alpha_r_50[normal_good_lowz]),\n",
    "                                                                   np.average(flat_alpha_r_50[normal_good_lowz], \n",
    "                                                                              weights=w_i[normal_good_lowz])))\n",
    "print('    std, sMAD, sigma w_mean: {:.5f}, {:.5f}, {:.5f}'.format(np.std(flat_alpha_r_50[normal_good_lowz], ddof=1), \n",
    "                                                                   1.4826*np.median(np.abs(flat_alpha_r_50[normal_good_lowz] - np.median(flat_alpha_r_50[normal_good_lowz]))), \n",
    "                                                                   1/np.sum(w_i[normal_good_lowz])*np.sqrt(np.sum((w_i[normal_good_lowz]*sigma_i[normal_good_lowz])**2))))\n",
    "\n",
    "print('\\tFurther restrict to host-z SNe however:')\n",
    "print('\\t  mean, median, weighted mean: {:.5f}, {:.5f}, {:.5f}'.format(np.mean(flat_alpha_r_50[normal_good_host_lowz]), np.median(flat_alpha_r_50[normal_good_host_lowz]),\n",
    "                                                                   np.average(flat_alpha_r_50[normal_good_host_lowz], \n",
    "                                                                              weights=w_i[normal_good_host_lowz])))\n",
    "print('\\t  std, sMAD, sigma w_mean: {:.5f}, {:.5f}, {:.5f}'.format(np.std(flat_alpha_r_50[normal_good_host_lowz], ddof=1), \n",
    "                                                                   1.4826*np.median(np.abs(flat_alpha_r_50[normal_good_host_lowz] - np.median(flat_alpha_r_50[normal_good_host_lowz]))), \n",
    "                                                                   1/np.sum(w_i[normal_good_host_lowz])*np.sqrt(np.sum((w_i[normal_good_host_lowz]*sigma_i[normal_good_host_lowz])**2))))"
   ]
  },
  {
   "cell_type": "code",
   "execution_count": 24,
   "metadata": {},
   "outputs": [],
   "source": [
    "flat_delta_16 = res.flat_delta_16.values.copy()\n",
    "flat_delta_50 = res.flat_delta_50.values.copy()\n",
    "flat_delta_84 = res.flat_delta_84.values.copy()\n",
    "\n",
    "sigma_i = (flat_delta_84-flat_delta_16)/2\n",
    "w_i = (sigma_i)**(-2)"
   ]
  },
  {
   "cell_type": "code",
   "execution_count": 25,
   "metadata": {},
   "outputs": [
    {
     "name": "stdout",
     "output_type": "stream",
     "text": [
      "The following are summary statistics for delta:\n",
      "mean, median, weighted mean: -0.19834, -0.21839, -0.18702\n",
      "std, sMAD, sigma w_mean: 0.07966, 0.06019, 0.01701\n",
      "  If you restrict to only \"good\" SNe however:\n",
      "    mean, median, weighted mean: -0.19834, -0.21839, -0.18702\n",
      "    std, sMAD, sigma w_mean: 0.07966, 0.06019, 0.01701\n",
      "\tFurther restrict to host-z SNe however:\n",
      "\t  mean, median, weighted mean: -0.19834, -0.21839, -0.18702\n",
      "\t  std, sMAD, sigma w_mean: 0.07966, 0.06019, 0.01701\n"
     ]
    }
   ],
   "source": [
    "sigma_i = (flat_delta_84-flat_delta_16)/2\n",
    "w_i = (sigma_i)**(-2)\n",
    "\n",
    "print('The following are summary statistics for delta:')\n",
    "print('mean, median, weighted mean: {:.5f}, {:.5f}, {:.5f}'.format(np.mean(flat_delta_50[normal_lowz]), np.median(flat_delta_50[normal_lowz]),\n",
    "                                                                   np.average(flat_delta_50[normal_lowz], \n",
    "                                                                              weights=w_i[normal_lowz])))\n",
    "print('std, sMAD, sigma w_mean: {:.5f}, {:.5f}, {:.5f}'.format(np.std(flat_delta_50[normal_lowz], ddof=1), \n",
    "                                                       1.4826*np.median(np.abs(flat_delta_50[normal_lowz] - np.median(flat_delta_50[normal_lowz]))),\n",
    "                                                       1/np.sum(w_i[normal_lowz])*np.sqrt(np.sum((w_i[normal_lowz]*sigma_i[normal_lowz])**2))))\n",
    "\n",
    "print('  If you restrict to only \"good\" SNe however:')\n",
    "print('    mean, median, weighted mean: {:.5f}, {:.5f}, {:.5f}'.format(np.mean(flat_delta_50[normal_good_lowz]), np.median(flat_delta_50[normal_good_lowz]),\n",
    "                                                                   np.average(flat_delta_50[normal_good_lowz], \n",
    "                                                                              weights=w_i[normal_good_lowz])))\n",
    "print('    std, sMAD, sigma w_mean: {:.5f}, {:.5f}, {:.5f}'.format(np.std(flat_delta_50[normal_good_lowz], ddof=1), \n",
    "                                                                   1.4826*np.median(np.abs(flat_delta_50[normal_good_lowz] - np.median(flat_delta_50[normal_good_lowz]))), \n",
    "                                                                   1/np.sum(w_i[normal_good_lowz])*np.sqrt(np.sum((w_i[normal_good_lowz]*sigma_i[normal_good_lowz])**2))))\n",
    "\n",
    "print('\\tFurther restrict to host-z SNe however:')\n",
    "print('\\t  mean, median, weighted mean: {:.5f}, {:.5f}, {:.5f}'.format(np.mean(flat_delta_50[normal_good_host_lowz]), np.median(flat_delta_50[normal_good_host_lowz]),\n",
    "                                                                   np.average(flat_delta_50[normal_good_host_lowz], \n",
    "                                                                              weights=w_i[normal_good_host_lowz])))\n",
    "print('\\t  std, sMAD, sigma w_mean: {:.5f}, {:.5f}, {:.5f}'.format(np.std(flat_delta_50[normal_good_host_lowz], ddof=1), \n",
    "                                                                   1.4826*np.median(np.abs(flat_delta_50[normal_good_host_lowz] - np.median(flat_delta_50[normal_good_host_lowz]))), \n",
    "                                                                   1/np.sum(w_i[normal_good_host_lowz])*np.sqrt(np.sum((w_i[normal_good_host_lowz]*sigma_i[normal_good_host_lowz])**2))))"
   ]
  }
 ],
 "metadata": {
  "kernelspec": {
   "display_name": "Python 3",
   "language": "python",
   "name": "python3"
  },
  "language_info": {
   "codemirror_mode": {
    "name": "ipython",
    "version": 3
   },
   "file_extension": ".py",
   "mimetype": "text/x-python",
   "name": "python",
   "nbconvert_exporter": "python",
   "pygments_lexer": "ipython3",
   "version": "3.7.1"
  }
 },
 "nbformat": 4,
 "nbformat_minor": 2
}
