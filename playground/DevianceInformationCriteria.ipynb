{
 "cells": [
  {
   "cell_type": "code",
   "execution_count": 1,
   "metadata": {},
   "outputs": [],
   "source": [
    "import numpy as np\n",
    "import pandas as pd\n",
    "import glob\n",
    "import emcee\n",
    "import corner\n",
    "import scipy.stats\n",
    "from scipy.ndimage import gaussian_filter1d\n",
    "\n",
    "import matplotlib.pyplot as plt\n",
    "from matplotlib.ticker import MultipleLocator\n",
    "\n",
    "from sklearn.model_selection import GridSearchCV\n",
    "from sklearn.neighbors import KernelDensity\n",
    "\n",
    "from fit_just_early_lc import prep_light_curve, multifcqfid_lnlike_big_unc, multifcqfid_lnprior_big_unc, multifcqfid_lnposterior_big_unc, lnlike_big_unc\n",
    "\n",
    "from multiprocessing import Pool\n",
    "import time\n",
    "\n",
    "from corner_hack import corner_hack\n",
    "from light_curve_plot import f_t, plot_both_filt"
   ]
  },
  {
   "cell_type": "code",
   "execution_count": 2,
   "metadata": {},
   "outputs": [],
   "source": [
    "%matplotlib notebook"
   ]
  },
  {
   "cell_type": "code",
   "execution_count": 3,
   "metadata": {},
   "outputs": [],
   "source": [
    "info_path = \"../../forced_lightcurves/sample_lc_v2/\"\n",
    "salt_df = pd.read_csv(info_path + \"../../Nobs_cut_salt2_spec_subtype_pec.csv\")"
   ]
  },
  {
   "cell_type": "markdown",
   "metadata": {},
   "source": [
    "## Measure the Deviance Information Criterion\n",
    "\n",
    "$$DIC = 2 \\bar{D(\\theta)} - D(\\bar{\\theta})$$\n",
    "\n",
    "where, $D(\\theta) = -2 \\log P(x|\\theta)$.\n",
    "\n",
    "Thus, we need to calculate the mean posterior parameters, AND, the mean likelihood for the posterior parameters. This requires the `multifcqfid_lnlike_big_unc` function. "
   ]
  },
  {
   "cell_type": "code",
   "execution_count": 44,
   "metadata": {},
   "outputs": [],
   "source": [
    "thin_by = 100\n",
    "rel_flux_cutoff = 0.4\n",
    "\n",
    "sn = 'ZTF18abauprj'\n",
    "\n",
    "h5_file = info_path + 'big_unc/{}_emcee_40_varchange.h5'.format(sn)\n",
    "reader = emcee.backends.HDFBackend(h5_file)\n",
    "nsteps = thin_by*np.shape(reader.get_chain())[0]\n",
    "tau = reader.get_autocorr_time(tol=0)\n",
    "burnin = int(5*np.max(tau))\n",
    "samples = reader.get_chain(discard=burnin, thin=np.max([int(np.max(tau)), 1]), flat=True)\n",
    "lnpost = reader.get_log_prob(discard=burnin, thin=np.max([int(np.max(tau)), 1]), flat=True)\n",
    "\n",
    "\n",
    "t_max = float(salt_df['t0_g_adopted'][salt_df['name'] == sn].values)\n",
    "z = float(salt_df['z_adopt'][salt_df['name'] == sn].values)\n",
    "g_max = float(salt_df['fratio_gmax_2adam'][salt_df['name'] == sn].values)\n",
    "r_max = float(salt_df['fratio_rmax_2adam'][salt_df['name'] == sn].values)\n",
    "\n",
    "t_data, f_data, f_unc_data, fcqfid_data = prep_light_curve(info_path+\"{}_force_phot.h5\".format(sn),\n",
    "                                                                     t_max=t_max, \n",
    "                                                                     z=z,\n",
    "                                                                     g_max=g_max,\n",
    "                                                                     r_max=r_max,\n",
    "                                                                     rel_flux_cutoff=rel_flux_cutoff)\n"
   ]
  },
  {
   "cell_type": "code",
   "execution_count": 50,
   "metadata": {},
   "outputs": [],
   "source": [
    "loglike_samples = np.zeros(len(samples))\n",
    "\n",
    "for samp_num, sample in enumerate(samples):\n",
    "    loglike_samples[samp_num] = multifcqfid_lnlike_big_unc(sample, f_data, t_data, f_unc_data, fcqfid_data)"
   ]
  },
  {
   "cell_type": "code",
   "execution_count": 53,
   "metadata": {},
   "outputs": [],
   "source": [
    "dhat = -2*multifcqfid_lnlike_big_unc(np.mean(samples, axis=0), f_data, t_data, f_unc_data, fcqfid_data)\n",
    "\n",
    "dbar = -2*np.mean(loglike_samples)"
   ]
  },
  {
   "cell_type": "code",
   "execution_count": 56,
   "metadata": {},
   "outputs": [
    {
     "name": "stdout",
     "output_type": "stream",
     "text": [
      "-359.9673406752178\n"
     ]
    }
   ],
   "source": [
    "dic = 2*dbar - dhat\n",
    "print(dic)"
   ]
  },
  {
   "cell_type": "markdown",
   "metadata": {},
   "source": [
    "#### What about for the $t^2$ model?"
   ]
  },
  {
   "cell_type": "code",
   "execution_count": 57,
   "metadata": {},
   "outputs": [],
   "source": [
    "h5_file = info_path + 'big_unc/{}_emcee_40_tsquared.h5'.format(sn)\n",
    "reader = emcee.backends.HDFBackend(h5_file)\n",
    "nsteps = thin_by*np.shape(reader.get_chain())[0]\n",
    "tau = reader.get_autocorr_time(tol=0)\n",
    "burnin = int(5*np.max(tau))\n",
    "samples_tsquared = reader.get_chain(discard=burnin, thin=np.max([int(np.max(tau)), 1]), flat=True)"
   ]
  },
  {
   "cell_type": "code",
   "execution_count": 59,
   "metadata": {},
   "outputs": [],
   "source": [
    "loglike_samples_tsquared = np.zeros(len(samples))\n",
    "\n",
    "for samp_num, sample in enumerate(samples_tsquared):\n",
    "    loglike_samples_tsquared[samp_num] = multifcqfid_lnlike_big_unc(sample, f_data, t_data, f_unc_data, fcqfid_data, \n",
    "                                                                    prior='delta2')"
   ]
  },
  {
   "cell_type": "code",
   "execution_count": 81,
   "metadata": {},
   "outputs": [],
   "source": [
    "dhat = -2*multifcqfid_lnlike_big_unc(np.mean(samples_tsquared, axis=0), f_data, t_data, f_unc_data, fcqfid_data, \n",
    "                                     prior='delta2')\n",
    "\n",
    "dbar = np.mean(-2*loglike_samples_tsquared)"
   ]
  },
  {
   "cell_type": "code",
   "execution_count": 82,
   "metadata": {},
   "outputs": [
    {
     "name": "stdout",
     "output_type": "stream",
     "text": [
      "-311.7311584562079\n"
     ]
    }
   ],
   "source": [
    "dic_tsquared = 2*dbar_tsquared - dhat_tsquared\n",
    "print(dic_tsquared)"
   ]
  },
  {
   "cell_type": "markdown",
   "metadata": {},
   "source": [
    "### Loop over all SNe"
   ]
  },
  {
   "cell_type": "code",
   "execution_count": 6,
   "metadata": {},
   "outputs": [
    {
     "data": {
      "text/plain": [
       "array(['ZTF18aailmnv', 'ZTF18aansqun', 'ZTF18aaoxryq', 'ZTF18aapqwyv',\n",
       "       'ZTF18aapsedq', 'ZTF18aaqcozd', 'ZTF18aaqcqkv', 'ZTF18aaqcqvr',\n",
       "       'ZTF18aaqcugm', 'ZTF18aaqffyp', 'ZTF18aaqnrum', 'ZTF18aaqqoqs',\n",
       "       'ZTF18aarldnh', 'ZTF18aarqnje', 'ZTF18aasdted', 'ZTF18aasesgl',\n",
       "       'ZTF18aaslhxt', 'ZTF18aatzygk', 'ZTF18aauhxce', 'ZTF18aaumeys',\n",
       "       'ZTF18aaumlfl', 'ZTF18aaunfqq', 'ZTF18aauocnw', 'ZTF18aavrwhu',\n",
       "       'ZTF18aavrzxp', 'ZTF18aawjywv', 'ZTF18aawpcel', 'ZTF18aawurud',\n",
       "       'ZTF18aaxakhh', 'ZTF18aaxcntm', 'ZTF18aaxdrjn', 'ZTF18aaxqyki',\n",
       "       'ZTF18aaxrvzj', 'ZTF18aaxsioa', 'ZTF18aaxvpsw', 'ZTF18aaxwjmp',\n",
       "       'ZTF18aaydmkh', 'ZTF18aayjvve', 'ZTF18aaykjei', 'ZTF18aaytovs',\n",
       "       'ZTF18aazabmh', 'ZTF18aazblzy', 'ZTF18aazcoob', 'ZTF18aazixbw',\n",
       "       'ZTF18aazjztm', 'ZTF18aazsabq', 'ZTF18abatffv', 'ZTF18abauprj',\n",
       "       'ZTF18abaxlpi', 'ZTF18abbpeqo', 'ZTF18abbvsiv', 'ZTF18abcecfi',\n",
       "       'ZTF18abcflnz', 'ZTF18abckujg', 'ZTF18abckujq', 'ZTF18abclalx',\n",
       "       'ZTF18abclfee', 'ZTF18abcrxoj', 'ZTF18abcsgvj', 'ZTF18abcysdx',\n",
       "       'ZTF18abdbuty', 'ZTF18abddmrf', 'ZTF18abdefet', 'ZTF18abdfazk',\n",
       "       'ZTF18abdfwur', 'ZTF18abdfydj', 'ZTF18abdkimx', 'ZTF18abdmgab',\n",
       "       'ZTF18abdpvnd', 'ZTF18abealop', 'ZTF18abeecwe', 'ZTF18abeegsl',\n",
       "       'ZTF18abetehf', 'ZTF18abetewu', 'ZTF18abfgygp', 'ZTF18abfhaji',\n",
       "       'ZTF18abfhryc', 'ZTF18abfwuwn', 'ZTF18abfzkno', 'ZTF18abgmcmv',\n",
       "       'ZTF18abgxvra', 'ZTF18abhpgje', 'ZTF18abimsyv', 'ZTF18abixjey',\n",
       "       'ZTF18abjdjge', 'ZTF18abjstcm', 'ZTF18abjtgdo', 'ZTF18abjtger',\n",
       "       'ZTF18abjvhec', 'ZTF18abkhcrj', 'ZTF18abkhcwl', 'ZTF18abkhdxe',\n",
       "       'ZTF18abkifng', 'ZTF18abkigee', 'ZTF18abklljv', 'ZTF18abkudjo',\n",
       "       'ZTF18abmmkaz', 'ZTF18abmxdhb', 'ZTF18abnvoel', 'ZTF18aboaeqy',\n",
       "       'ZTF18abokpvh', 'ZTF18abpamut', 'ZTF18abpaywm', 'ZTF18abpmmpo',\n",
       "       'ZTF18abptsco', 'ZTF18abpttky', 'ZTF18abqbavl', 'ZTF18abqjvyl',\n",
       "       'ZTF18abrzeym', 'ZTF18abrzrnb', 'ZTF18absdgon', 'ZTF18abslxhz',\n",
       "       'ZTF18abssdpi', 'ZTF18abssuxz', 'ZTF18abtcdfv', 'ZTF18abtnlik',\n",
       "       'ZTF18abtogdl', 'ZTF18abucvbf', 'ZTF18abukmty', 'ZTF18abuqugw',\n",
       "       'ZTF18abvbayb', 'ZTF18abwdcdv', 'ZTF18abwmuua', 'ZTF18abwnsoc',\n",
       "       'ZTF18abwtops', 'ZTF18abxxssh', 'ZTF18abxygvv'], dtype=object)"
      ]
     },
     "execution_count": 6,
     "metadata": {},
     "output_type": "execute_result"
    }
   ],
   "source": [
    "salt_df.name.values"
   ]
  },
  {
   "cell_type": "code",
   "execution_count": 8,
   "metadata": {},
   "outputs": [
    {
     "name": "stderr",
     "output_type": "stream",
     "text": [
      "/Users/adamamiller/astronomy/ZTF/early_Ia/2018/ztf_early_Ia_2018/playground/fit_just_early_lc.py:516: RuntimeWarning: divide by zero encountered in power\n",
      "  weights=f_zp_unc_tonight[g_tonight]**(-2))\n",
      "/Users/adamamiller/miniconda3/envs/emcee3/lib/python3.7/site-packages/numpy/lib/function_base.py:388: RuntimeWarning: invalid value encountered in multiply\n",
      "  avg = np.multiply(a, wgt, dtype=result_dtype).sum(axis)/scl\n",
      "/Users/adamamiller/astronomy/ZTF/early_Ia/2018/ztf_early_Ia_2018/playground/fit_just_early_lc.py:519: RuntimeWarning: divide by zero encountered in power\n",
      "  weights=f_zp_unc_tonight[~g_tonight]**(-2))\n",
      "/Users/adamamiller/astronomy/ZTF/early_Ia/2018/ztf_early_Ia_2018/playground/fit_just_early_lc.py:521: RuntimeWarning: invalid value encountered in greater\n",
      "  cutoff_g = np.where((mean_rf < 0) & (mean_g > 0) &\n",
      "/Users/adamamiller/astronomy/ZTF/early_Ia/2018/ztf_early_Ia_2018/playground/fit_just_early_lc.py:522: RuntimeWarning: invalid value encountered in less\n",
      "  (mean_g < rel_flux_cutoff))\n",
      "/Users/adamamiller/astronomy/ZTF/early_Ia/2018/ztf_early_Ia_2018/playground/fit_just_early_lc.py:525: RuntimeWarning: invalid value encountered in greater\n",
      "  cutoff_r = np.where((mean_rf < 0) & (mean_r > 0) &\n",
      "/Users/adamamiller/astronomy/ZTF/early_Ia/2018/ztf_early_Ia_2018/playground/fit_just_early_lc.py:526: RuntimeWarning: invalid value encountered in less\n",
      "  (mean_r < rel_flux_cutoff))\n"
     ]
    }
   ],
   "source": [
    "dic_uniformative_arr = np.zeros(len(salt_df))\n",
    "dic_tsquared_arr = np.zeros(len(salt_df))\n",
    "dic_alpha_r_plus_colors_arr = np.zeros(len(salt_df))\n",
    "\n",
    "def get_dic(sn):\n",
    "\n",
    "#     sn, bw = tup\n",
    "    sn_num = np.where(salt_df.name == sn)[0]\n",
    "    \n",
    "    h5_file = info_path + 'big_unc/{}_emcee_40_varchange.h5'.format(sn)\n",
    "    reader = emcee.backends.HDFBackend(h5_file)\n",
    "    thin_by = 100\n",
    "    nsteps = thin_by*np.shape(reader.get_chain())[0]\n",
    "    tau = reader.get_autocorr_time(tol=0)\n",
    "    burnin = int(5*np.max(tau))\n",
    "    samples = reader.get_chain(discard=burnin, thin=np.max(int(np.max(tau)), 0), flat=True)\n",
    "\n",
    "    rel_flux_cutoff = 0.4\n",
    "    t_max = float(salt_df['t0_g_adopted'][salt_df['name'] == sn].values)\n",
    "    z = float(salt_df['z_adopt'][salt_df['name'] == sn].values)\n",
    "    g_max = float(salt_df['fratio_gmax_2adam'][salt_df['name'] == sn].values)\n",
    "    r_max = float(salt_df['fratio_rmax_2adam'][salt_df['name'] == sn].values)\n",
    "\n",
    "    t_data, f_data, f_unc_data, fcqfid_data = prep_light_curve(info_path+\"{}_force_phot.h5\".format(sn),\n",
    "                                                                         t_max=t_max, \n",
    "                                                                         z=z,\n",
    "                                                                         g_max=g_max,\n",
    "                                                                         r_max=r_max,\n",
    "                                                                         rel_flux_cutoff=rel_flux_cutoff)\n",
    "\n",
    "    loglike_samples = np.zeros(len(samples))\n",
    "\n",
    "    for samp_num, sample in enumerate(samples):\n",
    "        loglike_samples[samp_num] = multifcqfid_lnlike_big_unc(sample, f_data, t_data, f_unc_data, fcqfid_data)\n",
    "    \n",
    "    dhat = -2*multifcqfid_lnlike_big_unc(np.mean(samples, axis=0), f_data, t_data, f_unc_data, fcqfid_data)\n",
    "    dbar = -2*np.mean(loglike_samples)\n",
    "    dic = 2*dbar - dhat\n",
    "    \n",
    "    h5_file = info_path + 'big_unc/{}_emcee_40_tsquared.h5'.format(sn)\n",
    "    reader = emcee.backends.HDFBackend(h5_file)\n",
    "    nsteps = thin_by*np.shape(reader.get_chain())[0]\n",
    "    tau = reader.get_autocorr_time(tol=0)\n",
    "    burnin = int(5*np.max(tau))\n",
    "    samples_tsquared = reader.get_chain(discard=burnin, thin=np.max([int(np.max(tau)), 1]), flat=True)\n",
    "    \n",
    "    loglike_samples_tsquared = np.zeros(len(samples_tsquared))\n",
    "\n",
    "    for samp_num, sample in enumerate(samples_tsquared):\n",
    "        loglike_samples_tsquared[samp_num] = multifcqfid_lnlike_big_unc(sample, f_data, t_data, f_unc_data, fcqfid_data, \n",
    "                                                                        prior='delta2')\n",
    "\n",
    "    dhat_tsquared = -2*multifcqfid_lnlike_big_unc(np.mean(samples_tsquared, axis=0), f_data, t_data, f_unc_data, fcqfid_data, \n",
    "                                     prior='delta2')\n",
    "\n",
    "    dbar_tsquared = np.mean(-2*loglike_samples_tsquared)\n",
    "    dic_tsquared = 2*dbar_tsquared - dhat_tsquared\n",
    "\n",
    "    dic_uniformative_arr[sn_num] = dic\n",
    "    dic_tsquared_arr[sn_num] = dic_tsquared\n",
    "    \n",
    "    h5_file = info_path + 'big_unc/{}_emcee_40_alpha_r_plus_colors.h5'.format(sn)\n",
    "    reader = emcee.backends.HDFBackend(h5_file)\n",
    "    nsteps = thin_by*np.shape(reader.get_chain())[0]\n",
    "    tau = reader.get_autocorr_time(tol=0)\n",
    "    burnin = int(5*np.max(tau))\n",
    "    samples_alpha_r_plus_colors = reader.get_chain(discard=burnin, thin=np.max([int(np.max(tau)), 1]), flat=True)\n",
    "    \n",
    "    loglike_samples_alpha_r_plus_colors = np.zeros(len(samples_alpha_r_plus_colors))\n",
    "\n",
    "    for samp_num, sample in enumerate(samples_alpha_r_plus_colors):\n",
    "        loglike_samples_alpha_r_plus_colors[samp_num] = multifcqfid_lnlike_big_unc(sample, f_data, t_data, f_unc_data, fcqfid_data, \n",
    "                                                                        prior='alpha_r_plus_colors')\n",
    "\n",
    "    dhat_alpha_r_plus_colors = -2*multifcqfid_lnlike_big_unc(np.mean(samples_alpha_r_plus_colors, axis=0), f_data, t_data, f_unc_data, fcqfid_data, \n",
    "                                     prior='alpha_r_plus_colors')\n",
    "\n",
    "    dbar_alpha_r_plus_colors = np.mean(-2*loglike_samples_alpha_r_plus_colors)\n",
    "    dic_alpha_r_plus_colors = 2*dbar_alpha_r_plus_colors - dhat_alpha_r_plus_colors\n",
    "\n",
    "    dic_uniformative_arr[sn_num] = dic\n",
    "    dic_alpha_r_plus_colors_arr[sn_num] = dic_alpha_r_plus_colors\n",
    "    \n",
    "    return (dic, dic_tsquared, dic_alpha_r_plus_colors)\n",
    "\n",
    "pool = Pool()\n",
    "\n",
    "dic_res = pool.map(get_dic, salt_df.name.values)"
   ]
  },
  {
   "cell_type": "code",
   "execution_count": 9,
   "metadata": {},
   "outputs": [
    {
     "data": {
      "text/plain": [
       "[(2391.37094383815, 2385.5704184161373, 2384.9620750441736),\n",
       " (2282.044274500203, 2284.5527852241644, 2283.3395393737474),\n",
       " (2096.2180971099406, 2087.6788427537213, 2087.516524410349),\n",
       " (336.36228278976444, 334.976637042548, 333.56727951462807),\n",
       " (1078.5785920779106, 1080.3530304886694, 1080.9015452575334),\n",
       " (387.02084208438134, 423.51141844478434, 422.5140924639711),\n",
       " (697.6830174330751, 727.245491474233, 727.999523091374),\n",
       " (649.065605342614, 656.1243182525432, 657.581877853469),\n",
       " (311.625077148738, 322.23017372686843, 320.34139503420715),\n",
       " (1078.3051159124343, 831.613790969587, 1024.6979184610743),\n",
       " (-2479.8573355069384, -330.08225263390045, -353.61364039653324),\n",
       " (759.2004825329516, 761.4699438968629, 762.4323403392162),\n",
       " (568.9416539055276, 568.8121356086867, 567.3181499805844),\n",
       " (705.7979210783728, 703.7007665305946, 702.8231337090077),\n",
       " (-43.918765940944496, -2.9922319751385444, -35.197905850376664),\n",
       " (1092.6726041258212, 1091.6150688359426, 1092.454842461883),\n",
       " (415.83446988984724, 417.09988044083303, 415.62315150647225),\n",
       " (-24.884973075872608, 427.16673735792006, 423.4239409929876),\n",
       " (644.0142240870101, 656.2194238015306, 653.476839379279),\n",
       " (-52.47501489751147, 118.60717679127586, 119.81495974429905),\n",
       " (689.7124427026056, 689.0301266393567, 689.7161092242222),\n",
       " (900.3281533688225, 904.004077327386, 905.1580565364336),\n",
       " (561.6535632403404, 573.8158556999831, 571.1116692943162),\n",
       " (587.9837888493776, 596.2814124061962, 595.1310437316972),\n",
       " (1651.370184183163, 1649.7308693434138, 1649.035331018157),\n",
       " (695.8335268902192, 696.9153866869588, 695.9759322115794),\n",
       " (362.5055988032152, 359.94097629435663, 360.3734776878421),\n",
       " (1831.8053309602424, 1824.7344955881345, 1824.651141483262),\n",
       " (709.5294598958923, 705.7756653164158, 703.9898640029829),\n",
       " (244.16581995576624, 248.6849941989562, 249.1215990864628),\n",
       " (474.3895038266203, 478.20071202579555, 476.4919989675993),\n",
       " (1024.8376022312023, 1020.0478930228801, 1020.1185717507324),\n",
       " (665.8538939179014, 660.1853216583733, 659.9642924840971),\n",
       " (271.4697908073721, 275.33539730963344, 269.681128205333),\n",
       " (1121.259371155982, 1119.1860736182864, 1118.5171628383252),\n",
       " (1252.73073972953, 1252.1612162607978, 1248.482489613866),\n",
       " (941.6608524743993, 949.2882189333761, 945.4482868009454),\n",
       " (527.2781389133378, 536.017722314346, 527.9299384071869),\n",
       " (1003.1570567189963, 1005.2589654220942, 1004.1194595043893),\n",
       " (729.8119071177052, 729.006495201416, 727.8870070293765),\n",
       " (665.3917290322017, 674.2047109320501, 669.2953777094638),\n",
       " (1771.2443248135505, 1768.4536777379344, 1770.437252071877),\n",
       " (175.58767781859518, 173.82231703049888, 173.78948289895902),\n",
       " (794.5567763044346, 796.8587536270168, 792.509369197757),\n",
       " (1149.4067786010032, 1146.8176633887201, 1146.0176900859174),\n",
       " (625.282040925144, 632.3799583662828, 623.9691925528725),\n",
       " (1480.6859818486769, 1476.468228106568, 1476.336741102058),\n",
       " (-359.9673406752178, -311.7311584562079, -359.1242048132453),\n",
       " (801.0883022229875, 801.5806710780514, 799.7945983940126),\n",
       " (2279.3164773339167, 2278.1326469050364, 2278.6113528359597),\n",
       " (167.94664981797712, 249.0550753553653, 247.69135388139108),\n",
       " (453.0475627226019, 447.336784026205, 447.2601478557217),\n",
       " (-71.62034047806289, 24.138520454848774, -67.44165372376115),\n",
       " (1320.6821242130027, 1329.8287633765283, 1323.6962094348517),\n",
       " (481.66584723250264, 480.30140869312766, 479.8743233560782),\n",
       " (1011.1306866841933, 1009.858943497658, 1008.662902588272),\n",
       " (2340.646677207682, 2358.714955099608, 2348.487110134336),\n",
       " (110.57724745036907, 114.12847445312804, 110.46455149539341),\n",
       " (1257.8053969417997, 1256.730084794771, 1255.618862041082),\n",
       " (998.0395481940158, 993.0537219051046, 993.4310128369352),\n",
       " (1030.5249276378281, 1029.9041483539836, 1029.422802914384),\n",
       " (1973.7386598655974, 1973.8455157485714, 1974.2831291722714),\n",
       " (357.3243631352843, 353.1917301889333, 352.5887502101475),\n",
       " (1264.0651628551013, 1260.1337500313816, 1260.6523540863573),\n",
       " (1965.1579366845851, 1962.988610541632, 1960.3962219372058),\n",
       " (1085.6600737877677, 1081.8913432533855, 1083.2175311547844),\n",
       " (1070.049957059157, 1065.892550996205, 1066.6417339260383),\n",
       " (1644.0443087888918, 1642.2300291228778, 1642.3395612892848),\n",
       " (129.70727770278376, 128.0512236592434, 125.20427309584255),\n",
       " (3720.174135995098, 3715.0741367016826, 3714.248709347003),\n",
       " (382.506444345703, 379.0910028376695, 380.25934399115647),\n",
       " (1250.1322812183826, 1251.4073800225437, 1250.9247817366922),\n",
       " (1226.6612505522412, 1225.4975494777218, 1225.1990626409984),\n",
       " (2457.797181099133, 2456.434257517417, 2455.6366596252797),\n",
       " (1876.8051516642056, 1885.3431529401983, 1879.4975974031588),\n",
       " (2811.86622625982, 2805.0834369971963, 2806.3923143487),\n",
       " (81.24483710881714, 150.79343394327248, 113.15255945631577),\n",
       " (1520.7647414952116, 1520.8318679426443, 1519.2227352989555),\n",
       " (693.5456685773543, 692.4871057517998, 692.1599079346752),\n",
       " (492.25238162615716, 516.6431145292083, 491.0101580760612),\n",
       " (1410.727608640383, 1410.4139815596166, 1411.6353453734546),\n",
       " (1725.6095435693362, 1723.5067045598928, 1721.9859267409788),\n",
       " (2650.2295071055696, 2649.181364399291, 2646.8079223762547),\n",
       " (2211.4869210043576, 2216.8961441658294, 2216.2632640969096),\n",
       " (1933.6360234211431, 1931.2913513351818, 1931.3666468322476),\n",
       " (1093.6982172742028, 1089.2707394705344, 1089.6794644070033),\n",
       " (2552.8661753009055, 2548.6291234304254, 2547.4572710466878),\n",
       " (721.3810776181293, 729.3096327792255, 730.0632541392988),\n",
       " (857.7631210906917, 857.9470241188353, 855.5577978439749),\n",
       " (905.1256160674304, 904.2021563693951, 904.3942039975682),\n",
       " (136.21597489041835, 147.7474682603619, 140.95523351591925),\n",
       " (1704.342333084216, 1701.377505618701, 1700.6390408637817),\n",
       " (1313.3509874993415, 1310.7125336912977, 1310.8478536405423),\n",
       " (1718.1420540921777, 1713.5384252064314, 1714.2972047451162),\n",
       " (2468.271164800374, 2464.5943671954756, 2465.0847172916515),\n",
       " (1775.7090999874022, 1776.9149360800275, 1775.879441395111),\n",
       " (520.5589794282987, -14203.849443286716, -19148.881561218845),\n",
       " (3329.0056056191743, 3322.7015763924655, 3322.358675003657),\n",
       " (397.0695374007357, 398.0920900013173, 395.8602354972155),\n",
       " (2399.2651397731406, 2398.059168021014, 2398.107145451769),\n",
       " (2101.5202887668456, 2098.536957651703, 2098.2835785592492),\n",
       " (4360.439605208829, 4367.756888575623, 4362.760249228855),\n",
       " (3898.1303458092407, 3899.808490412959, 3898.6314814275975),\n",
       " (1655.3984007116246, 1654.5975815021613, 1653.6220787146387),\n",
       " (2826.1957417858457, 2821.574009165889, 2821.479706768866),\n",
       " (2295.6029463181385, 2295.478529807726, 2295.0385671003287),\n",
       " (2937.7710376970754, 2948.182929089749, 2943.7839214059713),\n",
       " (4381.987298408372, 4376.600647165276, 4376.544185910378),\n",
       " (2682.284371491098, 2677.2847207295576, 2676.8372212486597),\n",
       " (2134.180876298076, 2131.741488229129, 2131.4184454369306),\n",
       " (1922.703152655378, 1924.4031174349943, 1922.297187383388),\n",
       " (5251.974267408332, 5247.224914838506, 5247.144445646351),\n",
       " (2103.2028193831115, 2099.009063111307, 2098.97727035844),\n",
       " (2052.8677786287367, 2048.3427248720377, 2048.601292075192),\n",
       " (1113.4298108239573, 1110.252715364439, 1110.419941993684),\n",
       " (3634.624831195146, 3631.255414483726, 3631.731619234577),\n",
       " (2587.3391116986145, 2583.6771873196044, 2584.3931653083014),\n",
       " (1126.618536111032, 1162.3267044807178, 1131.5813188320878),\n",
       " (1634.8139062485511, 1631.2198707101352, 1632.35903118214),\n",
       " (-35.6690560191152, 15.21556306230897, -26.67349953460578),\n",
       " (2343.3457795869035, 2334.9790665926175, 2335.110530928199),\n",
       " (1686.532556676684, 1686.3347636711712, 1683.6414868711074),\n",
       " (3321.9794719557726, 3323.078298864052, 3321.862784009314),\n",
       " (1797.008651579615, 1793.0408612121682, 1792.8663487420126),\n",
       " (4064.731169871171, 4061.1224950622654, 4061.472175876945),\n",
       " (2096.8423900217717, 2094.0098657582325, 2095.176075012228),\n",
       " (3666.453331137673, 3661.268077644425, 3661.565387085855)]"
      ]
     },
     "execution_count": 9,
     "metadata": {},
     "output_type": "execute_result"
    }
   ],
   "source": [
    "dic_res"
   ]
  },
  {
   "cell_type": "code",
   "execution_count": 17,
   "metadata": {},
   "outputs": [],
   "source": [
    "dic_uninformative_arr = np.array(dic_res)[:,0]\n",
    "dic_tsquared_arr = np.array(dic_res)[:,1]\n",
    "dic_alpha_r_plus_colors_arr = np.array(dic_res)[:,2]\n",
    "\n",
    "\n",
    "dic_df = pd.DataFrame(salt_df.name.values, columns=['ztf_name'])\n",
    "dic_df['dic_uninformative'] = dic_uninformative_arr\n",
    "dic_df['dic_delta2'] = dic_tsquared_arr\n",
    "dic_df['dic_alpha_r_plus'] = dic_alpha_r_plus_colors_arr"
   ]
  },
  {
   "cell_type": "code",
   "execution_count": 25,
   "metadata": {},
   "outputs": [
    {
     "data": {
      "text/plain": [
       "12"
      ]
     },
     "execution_count": 25,
     "metadata": {},
     "output_type": "execute_result"
    }
   ],
   "source": [
    "len(np.where(np.exp((dic_tsquared_arr - dic_alpha_r_plus_colors_arr)/2) > 30)[0])"
   ]
  },
  {
   "cell_type": "code",
   "execution_count": 19,
   "metadata": {},
   "outputs": [],
   "source": [
    "dic_evidence = np.array(['very strong']*len(salt_df))\n",
    "dic_evidence[np.where((np.exp((dic_tsquared_arr - dic_uninformative_arr)/2) <= 1))] = 'negative'\n",
    "dic_evidence[np.where((np.exp((dic_tsquared_arr - dic_uninformative_arr)/2) > 1) & \n",
    "                      (np.exp((dic_tsquared_arr - dic_uninformative_arr)/2) <= 3))] = 'weak'\n",
    "dic_evidence[np.where((np.exp((dic_tsquared_arr - dic_uninformative_arr)/2) > 3) & \n",
    "                      (np.exp((dic_tsquared_arr - dic_uninformative_arr)/2) <= 10))] = 'substantial'\n",
    "dic_evidence[np.where((np.exp((dic_tsquared_arr - dic_uninformative_arr)/2) > 10) & \n",
    "                      (np.exp((dic_tsquared_arr - dic_uninformative_arr)/2) <= 30))] = 'strong'\n",
    "dic_evidence[np.where((np.exp((dic_tsquared_arr - dic_uninformative_arr)/2) > 30) & \n",
    "                      (np.exp((dic_tsquared_arr - dic_uninformative_arr)/2) <= 100))] = 'very strong'\n",
    "dic_evidence[np.where((np.exp((dic_tsquared_arr - dic_uninformative_arr)/2) > 100))] = 'decisive'"
   ]
  },
  {
   "cell_type": "code",
   "execution_count": 20,
   "metadata": {},
   "outputs": [
    {
     "data": {
      "text/plain": [
       "array(['negative', 'substantial', 'negative', 'negative', 'weak',\n",
       "       'decisive', 'decisive', 'very strong', 'decisive', 'negative',\n",
       "       'decisive', 'substantial', 'negative', 'negative', 'decisive',\n",
       "       'negative', 'weak', 'decisive', 'decisive', 'decisive', 'negative',\n",
       "       'substantial', 'decisive', 'very strong', 'negative', 'weak',\n",
       "       'negative', 'negative', 'negative', 'substantial', 'substantial',\n",
       "       'negative', 'negative', 'substantial', 'negative', 'negative',\n",
       "       'very strong', 'very strong', 'weak', 'negative', 'very strong',\n",
       "       'negative', 'negative', 'substantial', 'negative', 'very strong',\n",
       "       'negative', 'decisive', 'weak', 'negative', 'decisive', 'negative',\n",
       "       'decisive', 'very strong', 'negative', 'negative', 'decisive',\n",
       "       'substantial', 'negative', 'negative', 'negative', 'weak',\n",
       "       'negative', 'negative', 'negative', 'negative', 'negative',\n",
       "       'negative', 'negative', 'negative', 'negative', 'weak', 'negative',\n",
       "       'negative', 'very strong', 'negative', 'decisive', 'weak',\n",
       "       'negative', 'decisive', 'negative', 'negative', 'negative',\n",
       "       'strong', 'negative', 'negative', 'negative', 'very strong',\n",
       "       'weak', 'negative', 'decisive', 'negative', 'negative', 'negative',\n",
       "       'negative', 'weak', 'negative', 'negative', 'weak', 'negative',\n",
       "       'negative', 'very strong', 'weak', 'negative', 'negative',\n",
       "       'negative', 'decisive', 'negative', 'negative', 'negative', 'weak',\n",
       "       'negative', 'negative', 'negative', 'negative', 'negative',\n",
       "       'negative', 'decisive', 'negative', 'decisive', 'negative',\n",
       "       'negative', 'weak', 'negative', 'negative', 'negative', 'negative'],\n",
       "      dtype='<U11')"
      ]
     },
     "execution_count": 20,
     "metadata": {},
     "output_type": "execute_result"
    }
   ],
   "source": [
    "dic_evidence"
   ]
  },
  {
   "cell_type": "code",
   "execution_count": 21,
   "metadata": {},
   "outputs": [
    {
     "data": {
      "text/plain": [
       "(array(['decisive', 'negative', 'strong', 'substantial', 'very strong',\n",
       "        'weak'], dtype='<U11'), array([19, 75,  1,  8, 10, 14]))"
      ]
     },
     "execution_count": 21,
     "metadata": {},
     "output_type": "execute_result"
    }
   ],
   "source": [
    "np.unique(dic_evidence, return_counts=True)"
   ]
  },
  {
   "cell_type": "code",
   "execution_count": 26,
   "metadata": {},
   "outputs": [],
   "source": [
    "dic_df['dic_evidence'] = dic_evidence\n",
    "dic_df.to_csv('dic_results.csv', index=False)"
   ]
  },
  {
   "cell_type": "markdown",
   "metadata": {},
   "source": [
    "## Analyze which SN prefer $t^2$ model"
   ]
  },
  {
   "cell_type": "code",
   "execution_count": 27,
   "metadata": {},
   "outputs": [
    {
     "data": {
      "text/html": [
       "<div>\n",
       "<style scoped>\n",
       "    .dataframe tbody tr th:only-of-type {\n",
       "        vertical-align: middle;\n",
       "    }\n",
       "\n",
       "    .dataframe tbody tr th {\n",
       "        vertical-align: top;\n",
       "    }\n",
       "\n",
       "    .dataframe thead th {\n",
       "        text-align: right;\n",
       "    }\n",
       "</style>\n",
       "<table border=\"1\" class=\"dataframe\">\n",
       "  <thead>\n",
       "    <tr style=\"text-align: right;\">\n",
       "      <th></th>\n",
       "      <th>ztf_name</th>\n",
       "      <th>dic_uninformative</th>\n",
       "      <th>dic_delta2</th>\n",
       "      <th>dic_alpha_r_plus</th>\n",
       "      <th>dic_evidence</th>\n",
       "    </tr>\n",
       "  </thead>\n",
       "  <tbody>\n",
       "    <tr>\n",
       "      <th>0</th>\n",
       "      <td>ZTF18aailmnv</td>\n",
       "      <td>2391.370944</td>\n",
       "      <td>2385.570418</td>\n",
       "      <td>2384.962075</td>\n",
       "      <td>negative</td>\n",
       "    </tr>\n",
       "    <tr>\n",
       "      <th>1</th>\n",
       "      <td>ZTF18aansqun</td>\n",
       "      <td>2282.044275</td>\n",
       "      <td>2284.552785</td>\n",
       "      <td>2283.339539</td>\n",
       "      <td>substantial</td>\n",
       "    </tr>\n",
       "    <tr>\n",
       "      <th>2</th>\n",
       "      <td>ZTF18aaoxryq</td>\n",
       "      <td>2096.218097</td>\n",
       "      <td>2087.678843</td>\n",
       "      <td>2087.516524</td>\n",
       "      <td>negative</td>\n",
       "    </tr>\n",
       "    <tr>\n",
       "      <th>3</th>\n",
       "      <td>ZTF18aapqwyv</td>\n",
       "      <td>336.362283</td>\n",
       "      <td>334.976637</td>\n",
       "      <td>333.567280</td>\n",
       "      <td>negative</td>\n",
       "    </tr>\n",
       "    <tr>\n",
       "      <th>4</th>\n",
       "      <td>ZTF18aapsedq</td>\n",
       "      <td>1078.578592</td>\n",
       "      <td>1080.353030</td>\n",
       "      <td>1080.901545</td>\n",
       "      <td>weak</td>\n",
       "    </tr>\n",
       "  </tbody>\n",
       "</table>\n",
       "</div>"
      ],
      "text/plain": [
       "       ztf_name  dic_uninformative   dic_delta2  dic_alpha_r_plus dic_evidence\n",
       "0  ZTF18aailmnv        2391.370944  2385.570418       2384.962075     negative\n",
       "1  ZTF18aansqun        2282.044275  2284.552785       2283.339539  substantial\n",
       "2  ZTF18aaoxryq        2096.218097  2087.678843       2087.516524     negative\n",
       "3  ZTF18aapqwyv         336.362283   334.976637        333.567280     negative\n",
       "4  ZTF18aapsedq        1078.578592  1080.353030       1080.901545         weak"
      ]
     },
     "execution_count": 27,
     "metadata": {},
     "output_type": "execute_result"
    }
   ],
   "source": [
    "dic_df = pd.read_csv('dic_results.csv')\n",
    "dic_df.head()"
   ]
  },
  {
   "cell_type": "code",
   "execution_count": 28,
   "metadata": {},
   "outputs": [],
   "source": [
    "res = pd.read_csv('results_40percent.csv')"
   ]
  },
  {
   "cell_type": "code",
   "execution_count": 29,
   "metadata": {},
   "outputs": [
    {
     "data": {
      "text/html": [
       "<div>\n",
       "<style scoped>\n",
       "    .dataframe tbody tr th:only-of-type {\n",
       "        vertical-align: middle;\n",
       "    }\n",
       "\n",
       "    .dataframe tbody tr th {\n",
       "        vertical-align: top;\n",
       "    }\n",
       "\n",
       "    .dataframe thead th {\n",
       "        text-align: right;\n",
       "    }\n",
       "</style>\n",
       "<table border=\"1\" class=\"dataframe\">\n",
       "  <thead>\n",
       "    <tr style=\"text-align: right;\">\n",
       "      <th></th>\n",
       "      <th>ztf_name</th>\n",
       "      <th>final_selection</th>\n",
       "      <th>t_rise_95</th>\n",
       "      <th>t_rise_05</th>\n",
       "      <th>n_nights_gr_post</th>\n",
       "    </tr>\n",
       "  </thead>\n",
       "  <tbody>\n",
       "    <tr>\n",
       "      <th>5</th>\n",
       "      <td>b'ZTF18aaqcozd'</td>\n",
       "      <td>0</td>\n",
       "      <td>16.020238</td>\n",
       "      <td>10.333284</td>\n",
       "      <td>2.0</td>\n",
       "    </tr>\n",
       "    <tr>\n",
       "      <th>6</th>\n",
       "      <td>b'ZTF18aaqcqkv'</td>\n",
       "      <td>0</td>\n",
       "      <td>15.345109</td>\n",
       "      <td>12.517173</td>\n",
       "      <td>1.0</td>\n",
       "    </tr>\n",
       "    <tr>\n",
       "      <th>8</th>\n",
       "      <td>b'ZTF18aaqcugm'</td>\n",
       "      <td>0</td>\n",
       "      <td>16.587780</td>\n",
       "      <td>13.317806</td>\n",
       "      <td>3.0</td>\n",
       "    </tr>\n",
       "    <tr>\n",
       "      <th>10</th>\n",
       "      <td>b'ZTF18aaqnrum'</td>\n",
       "      <td>0</td>\n",
       "      <td>17.217793</td>\n",
       "      <td>11.107460</td>\n",
       "      <td>0.0</td>\n",
       "    </tr>\n",
       "    <tr>\n",
       "      <th>14</th>\n",
       "      <td>b'ZTF18aasdted'</td>\n",
       "      <td>1</td>\n",
       "      <td>18.655766</td>\n",
       "      <td>18.332722</td>\n",
       "      <td>3.0</td>\n",
       "    </tr>\n",
       "    <tr>\n",
       "      <th>17</th>\n",
       "      <td>b'ZTF18aatzygk'</td>\n",
       "      <td>0</td>\n",
       "      <td>17.492604</td>\n",
       "      <td>14.062936</td>\n",
       "      <td>1.0</td>\n",
       "    </tr>\n",
       "    <tr>\n",
       "      <th>18</th>\n",
       "      <td>b'ZTF18aauhxce'</td>\n",
       "      <td>0</td>\n",
       "      <td>18.036325</td>\n",
       "      <td>14.611500</td>\n",
       "      <td>1.0</td>\n",
       "    </tr>\n",
       "    <tr>\n",
       "      <th>19</th>\n",
       "      <td>b'ZTF18aaumeys'</td>\n",
       "      <td>0</td>\n",
       "      <td>16.897107</td>\n",
       "      <td>12.317115</td>\n",
       "      <td>1.0</td>\n",
       "    </tr>\n",
       "    <tr>\n",
       "      <th>22</th>\n",
       "      <td>b'ZTF18aauocnw'</td>\n",
       "      <td>0</td>\n",
       "      <td>16.192567</td>\n",
       "      <td>14.915370</td>\n",
       "      <td>3.0</td>\n",
       "    </tr>\n",
       "    <tr>\n",
       "      <th>47</th>\n",
       "      <td>b'ZTF18abauprj'</td>\n",
       "      <td>1</td>\n",
       "      <td>19.389630</td>\n",
       "      <td>19.059857</td>\n",
       "      <td>7.0</td>\n",
       "    </tr>\n",
       "    <tr>\n",
       "      <th>50</th>\n",
       "      <td>b'ZTF18abbvsiv'</td>\n",
       "      <td>0</td>\n",
       "      <td>16.397576</td>\n",
       "      <td>11.755264</td>\n",
       "      <td>1.0</td>\n",
       "    </tr>\n",
       "    <tr>\n",
       "      <th>52</th>\n",
       "      <td>b'ZTF18abcflnz'</td>\n",
       "      <td>1</td>\n",
       "      <td>20.103622</td>\n",
       "      <td>19.400695</td>\n",
       "      <td>9.0</td>\n",
       "    </tr>\n",
       "    <tr>\n",
       "      <th>56</th>\n",
       "      <td>b'ZTF18abclfee'</td>\n",
       "      <td>1</td>\n",
       "      <td>10.411463</td>\n",
       "      <td>9.678032</td>\n",
       "      <td>3.0</td>\n",
       "    </tr>\n",
       "    <tr>\n",
       "      <th>76</th>\n",
       "      <td>b'ZTF18abfhryc'</td>\n",
       "      <td>1</td>\n",
       "      <td>22.639941</td>\n",
       "      <td>20.748036</td>\n",
       "      <td>8.0</td>\n",
       "    </tr>\n",
       "    <tr>\n",
       "      <th>79</th>\n",
       "      <td>b'ZTF18abgmcmv'</td>\n",
       "      <td>1</td>\n",
       "      <td>18.321285</td>\n",
       "      <td>17.842853</td>\n",
       "      <td>7.0</td>\n",
       "    </tr>\n",
       "    <tr>\n",
       "      <th>90</th>\n",
       "      <td>b'ZTF18abkhcwl'</td>\n",
       "      <td>1</td>\n",
       "      <td>20.408100</td>\n",
       "      <td>19.032290</td>\n",
       "      <td>8.0</td>\n",
       "    </tr>\n",
       "    <tr>\n",
       "      <th>106</th>\n",
       "      <td>b'ZTF18abqbavl'</td>\n",
       "      <td>0</td>\n",
       "      <td>19.317390</td>\n",
       "      <td>13.877171</td>\n",
       "      <td>2.0</td>\n",
       "    </tr>\n",
       "    <tr>\n",
       "      <th>117</th>\n",
       "      <td>b'ZTF18abucvbf'</td>\n",
       "      <td>1</td>\n",
       "      <td>20.242419</td>\n",
       "      <td>18.905199</td>\n",
       "      <td>10.0</td>\n",
       "    </tr>\n",
       "    <tr>\n",
       "      <th>119</th>\n",
       "      <td>b'ZTF18abuqugw'</td>\n",
       "      <td>1</td>\n",
       "      <td>17.276395</td>\n",
       "      <td>16.367840</td>\n",
       "      <td>5.0</td>\n",
       "    </tr>\n",
       "  </tbody>\n",
       "</table>\n",
       "</div>"
      ],
      "text/plain": [
       "            ztf_name  final_selection  t_rise_95  t_rise_05  n_nights_gr_post\n",
       "5    b'ZTF18aaqcozd'                0  16.020238  10.333284               2.0\n",
       "6    b'ZTF18aaqcqkv'                0  15.345109  12.517173               1.0\n",
       "8    b'ZTF18aaqcugm'                0  16.587780  13.317806               3.0\n",
       "10   b'ZTF18aaqnrum'                0  17.217793  11.107460               0.0\n",
       "14   b'ZTF18aasdted'                1  18.655766  18.332722               3.0\n",
       "17   b'ZTF18aatzygk'                0  17.492604  14.062936               1.0\n",
       "18   b'ZTF18aauhxce'                0  18.036325  14.611500               1.0\n",
       "19   b'ZTF18aaumeys'                0  16.897107  12.317115               1.0\n",
       "22   b'ZTF18aauocnw'                0  16.192567  14.915370               3.0\n",
       "47   b'ZTF18abauprj'                1  19.389630  19.059857               7.0\n",
       "50   b'ZTF18abbvsiv'                0  16.397576  11.755264               1.0\n",
       "52   b'ZTF18abcflnz'                1  20.103622  19.400695               9.0\n",
       "56   b'ZTF18abclfee'                1  10.411463   9.678032               3.0\n",
       "76   b'ZTF18abfhryc'                1  22.639941  20.748036               8.0\n",
       "79   b'ZTF18abgmcmv'                1  18.321285  17.842853               7.0\n",
       "90   b'ZTF18abkhcwl'                1  20.408100  19.032290               8.0\n",
       "106  b'ZTF18abqbavl'                0  19.317390  13.877171               2.0\n",
       "117  b'ZTF18abucvbf'                1  20.242419  18.905199              10.0\n",
       "119  b'ZTF18abuqugw'                1  17.276395  16.367840               5.0"
      ]
     },
     "execution_count": 29,
     "metadata": {},
     "output_type": "execute_result"
    }
   ],
   "source": [
    "decisive = np.where(dic_df.dic_evidence == 'decisive')\n",
    "vstrong = np.where(dic_df.dic_evidence == 'very strong')\n",
    "strong = np.where(dic_df.dic_evidence == 'strong')\n",
    "substantial = np.where(dic_df.dic_evidence == 'substantial')\n",
    "weak = np.where(dic_df.dic_evidence == 'weak')\n",
    "\n",
    "res[['ztf_name','final_selection', 't_rise_95', 't_rise_05', 'n_nights_gr_post']].iloc[decisive]"
   ]
  },
  {
   "cell_type": "code",
   "execution_count": 30,
   "metadata": {},
   "outputs": [],
   "source": [
    "res_tsquared = pd.read_csv('results_40_tsquared.csv')"
   ]
  },
  {
   "cell_type": "code",
   "execution_count": 31,
   "metadata": {},
   "outputs": [],
   "source": [
    "colors_sample = np.where( (((dic_df.dic_evidence == 'decisive') | (dic_df.dic_evidence == 'very strong')) \n",
    "                           & (res.final_selection == 1)))\n",
    "\n",
    "tsquared_sample = np.where( (((dic_df.dic_evidence == 'decisive') | (dic_df.dic_evidence == 'very strong')) \n",
    "                           & (res.final_selection == 0) & (res_tsquared.final_selection == 1)) | \n",
    "                            (((dic_df.dic_evidence != 'decisive') & (dic_df.dic_evidence != 'very strong')) \n",
    "                           & (res_tsquared.final_selection == 1)))"
   ]
  },
  {
   "cell_type": "markdown",
   "metadata": {},
   "source": [
    "The upshot here is that the very best models (i.e. low $z$, high $N_\\mathrm{det}$, and low $CR_{90}$) and the very worst, opposite of this, are the ones that show significant evidence for a departure from $\\alpha = 2$ according to the DIC. These models, therefore, should not be \"lumped in\" with a uniform $\\alpha = 2$ analysis. "
   ]
  }
 ],
 "metadata": {
  "kernelspec": {
   "display_name": "Python 3",
   "language": "python",
   "name": "python3"
  },
  "language_info": {
   "codemirror_mode": {
    "name": "ipython",
    "version": 3
   },
   "file_extension": ".py",
   "mimetype": "text/x-python",
   "name": "python",
   "nbconvert_exporter": "python",
   "pygments_lexer": "ipython3",
   "version": "3.7.1"
  }
 },
 "nbformat": 4,
 "nbformat_minor": 2
}
